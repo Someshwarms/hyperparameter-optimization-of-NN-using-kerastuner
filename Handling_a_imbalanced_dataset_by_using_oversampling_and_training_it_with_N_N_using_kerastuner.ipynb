{
  "nbformat": 4,
  "nbformat_minor": 0,
  "metadata": {
    "colab": {
      "name": "Handling a imbalanced dataset by using oversampling and training it with N.N using kerastuner.ipynb",
      "provenance": [],
      "collapsed_sections": [],
      "authorship_tag": "ABX9TyOp+LauzdLmHqna/rq7zxal",
      "include_colab_link": true
    },
    "kernelspec": {
      "name": "python3",
      "display_name": "Python 3"
    },
    "language_info": {
      "name": "python"
    },
    "accelerator": "GPU"
  },
  "cells": [
    {
      "cell_type": "markdown",
      "metadata": {
        "id": "view-in-github",
        "colab_type": "text"
      },
      "source": [
        "<a href=\"https://colab.research.google.com/github/Someshwarms/hyperparameter-optimization-of-NN-using-kerastuner/blob/main/Handling_a_imbalanced_dataset_by_using_oversampling_and_training_it_with_N_N_using_kerastuner.ipynb\" target=\"_parent\"><img src=\"https://colab.research.google.com/assets/colab-badge.svg\" alt=\"Open In Colab\"/></a>"
      ]
    },
    {
      "cell_type": "code",
      "metadata": {
        "colab": {
          "base_uri": "https://localhost:8080/"
        },
        "id": "e6t601ZZC_L-",
        "outputId": "4ae7919b-d2bf-4d17-c6d0-008009a877f8"
      },
      "source": [
        "from google.colab import drive\n",
        "drive.mount(\"/content/drive\", force_remount=True)"
      ],
      "execution_count": 1,
      "outputs": [
        {
          "output_type": "stream",
          "name": "stdout",
          "text": [
            "Mounted at /content/drive\n"
          ]
        }
      ]
    },
    {
      "cell_type": "code",
      "metadata": {
        "colab": {
          "base_uri": "https://localhost:8080/"
        },
        "id": "zL91engHEB5g",
        "outputId": "0e5668ea-f58d-4a8e-f571-a122015a7111"
      },
      "source": [
        "pip install imbalanced-learn"
      ],
      "execution_count": null,
      "outputs": [
        {
          "output_type": "stream",
          "name": "stdout",
          "text": [
            "Requirement already satisfied: imbalanced-learn in /usr/local/lib/python3.7/dist-packages (0.8.1)\n",
            "Requirement already satisfied: scikit-learn>=0.24 in /usr/local/lib/python3.7/dist-packages (from imbalanced-learn) (1.0.1)\n",
            "Requirement already satisfied: numpy>=1.13.3 in /usr/local/lib/python3.7/dist-packages (from imbalanced-learn) (1.19.5)\n",
            "Requirement already satisfied: scipy>=0.19.1 in /usr/local/lib/python3.7/dist-packages (from imbalanced-learn) (1.4.1)\n",
            "Requirement already satisfied: joblib>=0.11 in /usr/local/lib/python3.7/dist-packages (from imbalanced-learn) (1.1.0)\n",
            "Requirement already satisfied: threadpoolctl>=2.0.0 in /usr/local/lib/python3.7/dist-packages (from scikit-learn>=0.24->imbalanced-learn) (3.0.0)\n"
          ]
        }
      ]
    },
    {
      "cell_type": "code",
      "metadata": {
        "id": "-zJ3gCwADd67"
      },
      "source": [
        "import pandas as pd\n",
        "import numpy as np \n",
        "#import imblearn\n",
        "import tensorflow as tf\n",
        "import matplotlib.pyplot as plt\n",
        "import seaborn as sns \n",
        "%matplotlib inline"
      ],
      "execution_count": 3,
      "outputs": []
    },
    {
      "cell_type": "code",
      "metadata": {
        "colab": {
          "base_uri": "https://localhost:8080/",
          "height": 223
        },
        "id": "PMrbWm-AEd9x",
        "outputId": "acbc41f8-d1e6-45d9-9ecf-3ce042f81514"
      },
      "source": [
        "df=pd.read_csv(\"/content/drive/MyDrive/creditcard.csv\")\n",
        "df.head()"
      ],
      "execution_count": 4,
      "outputs": [
        {
          "output_type": "execute_result",
          "data": {
            "text/html": [
              "<div>\n",
              "<style scoped>\n",
              "    .dataframe tbody tr th:only-of-type {\n",
              "        vertical-align: middle;\n",
              "    }\n",
              "\n",
              "    .dataframe tbody tr th {\n",
              "        vertical-align: top;\n",
              "    }\n",
              "\n",
              "    .dataframe thead th {\n",
              "        text-align: right;\n",
              "    }\n",
              "</style>\n",
              "<table border=\"1\" class=\"dataframe\">\n",
              "  <thead>\n",
              "    <tr style=\"text-align: right;\">\n",
              "      <th></th>\n",
              "      <th>Time</th>\n",
              "      <th>V1</th>\n",
              "      <th>V2</th>\n",
              "      <th>V3</th>\n",
              "      <th>V4</th>\n",
              "      <th>V5</th>\n",
              "      <th>V6</th>\n",
              "      <th>V7</th>\n",
              "      <th>V8</th>\n",
              "      <th>V9</th>\n",
              "      <th>V10</th>\n",
              "      <th>V11</th>\n",
              "      <th>V12</th>\n",
              "      <th>V13</th>\n",
              "      <th>V14</th>\n",
              "      <th>V15</th>\n",
              "      <th>V16</th>\n",
              "      <th>V17</th>\n",
              "      <th>V18</th>\n",
              "      <th>V19</th>\n",
              "      <th>V20</th>\n",
              "      <th>V21</th>\n",
              "      <th>V22</th>\n",
              "      <th>V23</th>\n",
              "      <th>V24</th>\n",
              "      <th>V25</th>\n",
              "      <th>V26</th>\n",
              "      <th>V27</th>\n",
              "      <th>V28</th>\n",
              "      <th>Amount</th>\n",
              "      <th>Class</th>\n",
              "    </tr>\n",
              "  </thead>\n",
              "  <tbody>\n",
              "    <tr>\n",
              "      <th>0</th>\n",
              "      <td>0.0</td>\n",
              "      <td>-1.359807</td>\n",
              "      <td>-0.072781</td>\n",
              "      <td>2.536347</td>\n",
              "      <td>1.378155</td>\n",
              "      <td>-0.338321</td>\n",
              "      <td>0.462388</td>\n",
              "      <td>0.239599</td>\n",
              "      <td>0.098698</td>\n",
              "      <td>0.363787</td>\n",
              "      <td>0.090794</td>\n",
              "      <td>-0.551600</td>\n",
              "      <td>-0.617801</td>\n",
              "      <td>-0.991390</td>\n",
              "      <td>-0.311169</td>\n",
              "      <td>1.468177</td>\n",
              "      <td>-0.470401</td>\n",
              "      <td>0.207971</td>\n",
              "      <td>0.025791</td>\n",
              "      <td>0.403993</td>\n",
              "      <td>0.251412</td>\n",
              "      <td>-0.018307</td>\n",
              "      <td>0.277838</td>\n",
              "      <td>-0.110474</td>\n",
              "      <td>0.066928</td>\n",
              "      <td>0.128539</td>\n",
              "      <td>-0.189115</td>\n",
              "      <td>0.133558</td>\n",
              "      <td>-0.021053</td>\n",
              "      <td>149.62</td>\n",
              "      <td>0</td>\n",
              "    </tr>\n",
              "    <tr>\n",
              "      <th>1</th>\n",
              "      <td>0.0</td>\n",
              "      <td>1.191857</td>\n",
              "      <td>0.266151</td>\n",
              "      <td>0.166480</td>\n",
              "      <td>0.448154</td>\n",
              "      <td>0.060018</td>\n",
              "      <td>-0.082361</td>\n",
              "      <td>-0.078803</td>\n",
              "      <td>0.085102</td>\n",
              "      <td>-0.255425</td>\n",
              "      <td>-0.166974</td>\n",
              "      <td>1.612727</td>\n",
              "      <td>1.065235</td>\n",
              "      <td>0.489095</td>\n",
              "      <td>-0.143772</td>\n",
              "      <td>0.635558</td>\n",
              "      <td>0.463917</td>\n",
              "      <td>-0.114805</td>\n",
              "      <td>-0.183361</td>\n",
              "      <td>-0.145783</td>\n",
              "      <td>-0.069083</td>\n",
              "      <td>-0.225775</td>\n",
              "      <td>-0.638672</td>\n",
              "      <td>0.101288</td>\n",
              "      <td>-0.339846</td>\n",
              "      <td>0.167170</td>\n",
              "      <td>0.125895</td>\n",
              "      <td>-0.008983</td>\n",
              "      <td>0.014724</td>\n",
              "      <td>2.69</td>\n",
              "      <td>0</td>\n",
              "    </tr>\n",
              "    <tr>\n",
              "      <th>2</th>\n",
              "      <td>1.0</td>\n",
              "      <td>-1.358354</td>\n",
              "      <td>-1.340163</td>\n",
              "      <td>1.773209</td>\n",
              "      <td>0.379780</td>\n",
              "      <td>-0.503198</td>\n",
              "      <td>1.800499</td>\n",
              "      <td>0.791461</td>\n",
              "      <td>0.247676</td>\n",
              "      <td>-1.514654</td>\n",
              "      <td>0.207643</td>\n",
              "      <td>0.624501</td>\n",
              "      <td>0.066084</td>\n",
              "      <td>0.717293</td>\n",
              "      <td>-0.165946</td>\n",
              "      <td>2.345865</td>\n",
              "      <td>-2.890083</td>\n",
              "      <td>1.109969</td>\n",
              "      <td>-0.121359</td>\n",
              "      <td>-2.261857</td>\n",
              "      <td>0.524980</td>\n",
              "      <td>0.247998</td>\n",
              "      <td>0.771679</td>\n",
              "      <td>0.909412</td>\n",
              "      <td>-0.689281</td>\n",
              "      <td>-0.327642</td>\n",
              "      <td>-0.139097</td>\n",
              "      <td>-0.055353</td>\n",
              "      <td>-0.059752</td>\n",
              "      <td>378.66</td>\n",
              "      <td>0</td>\n",
              "    </tr>\n",
              "    <tr>\n",
              "      <th>3</th>\n",
              "      <td>1.0</td>\n",
              "      <td>-0.966272</td>\n",
              "      <td>-0.185226</td>\n",
              "      <td>1.792993</td>\n",
              "      <td>-0.863291</td>\n",
              "      <td>-0.010309</td>\n",
              "      <td>1.247203</td>\n",
              "      <td>0.237609</td>\n",
              "      <td>0.377436</td>\n",
              "      <td>-1.387024</td>\n",
              "      <td>-0.054952</td>\n",
              "      <td>-0.226487</td>\n",
              "      <td>0.178228</td>\n",
              "      <td>0.507757</td>\n",
              "      <td>-0.287924</td>\n",
              "      <td>-0.631418</td>\n",
              "      <td>-1.059647</td>\n",
              "      <td>-0.684093</td>\n",
              "      <td>1.965775</td>\n",
              "      <td>-1.232622</td>\n",
              "      <td>-0.208038</td>\n",
              "      <td>-0.108300</td>\n",
              "      <td>0.005274</td>\n",
              "      <td>-0.190321</td>\n",
              "      <td>-1.175575</td>\n",
              "      <td>0.647376</td>\n",
              "      <td>-0.221929</td>\n",
              "      <td>0.062723</td>\n",
              "      <td>0.061458</td>\n",
              "      <td>123.50</td>\n",
              "      <td>0</td>\n",
              "    </tr>\n",
              "    <tr>\n",
              "      <th>4</th>\n",
              "      <td>2.0</td>\n",
              "      <td>-1.158233</td>\n",
              "      <td>0.877737</td>\n",
              "      <td>1.548718</td>\n",
              "      <td>0.403034</td>\n",
              "      <td>-0.407193</td>\n",
              "      <td>0.095921</td>\n",
              "      <td>0.592941</td>\n",
              "      <td>-0.270533</td>\n",
              "      <td>0.817739</td>\n",
              "      <td>0.753074</td>\n",
              "      <td>-0.822843</td>\n",
              "      <td>0.538196</td>\n",
              "      <td>1.345852</td>\n",
              "      <td>-1.119670</td>\n",
              "      <td>0.175121</td>\n",
              "      <td>-0.451449</td>\n",
              "      <td>-0.237033</td>\n",
              "      <td>-0.038195</td>\n",
              "      <td>0.803487</td>\n",
              "      <td>0.408542</td>\n",
              "      <td>-0.009431</td>\n",
              "      <td>0.798278</td>\n",
              "      <td>-0.137458</td>\n",
              "      <td>0.141267</td>\n",
              "      <td>-0.206010</td>\n",
              "      <td>0.502292</td>\n",
              "      <td>0.219422</td>\n",
              "      <td>0.215153</td>\n",
              "      <td>69.99</td>\n",
              "      <td>0</td>\n",
              "    </tr>\n",
              "  </tbody>\n",
              "</table>\n",
              "</div>"
            ],
            "text/plain": [
              "   Time        V1        V2        V3  ...       V27       V28  Amount  Class\n",
              "0   0.0 -1.359807 -0.072781  2.536347  ...  0.133558 -0.021053  149.62      0\n",
              "1   0.0  1.191857  0.266151  0.166480  ... -0.008983  0.014724    2.69      0\n",
              "2   1.0 -1.358354 -1.340163  1.773209  ... -0.055353 -0.059752  378.66      0\n",
              "3   1.0 -0.966272 -0.185226  1.792993  ...  0.062723  0.061458  123.50      0\n",
              "4   2.0 -1.158233  0.877737  1.548718  ...  0.219422  0.215153   69.99      0\n",
              "\n",
              "[5 rows x 31 columns]"
            ]
          },
          "metadata": {},
          "execution_count": 4
        }
      ]
    },
    {
      "cell_type": "code",
      "metadata": {
        "colab": {
          "base_uri": "https://localhost:8080/"
        },
        "id": "XcKUHgs9bcks",
        "outputId": "a0103ebf-7ed8-40d8-b0ca-4dd3f096fb04"
      },
      "source": [
        "df['Class'].dtype"
      ],
      "execution_count": null,
      "outputs": [
        {
          "output_type": "execute_result",
          "data": {
            "text/plain": [
              "dtype('int64')"
            ]
          },
          "metadata": {},
          "execution_count": 5
        }
      ]
    },
    {
      "cell_type": "code",
      "metadata": {
        "colab": {
          "base_uri": "https://localhost:8080/"
        },
        "id": "S3Ru0O5QE5NE",
        "outputId": "48b33f9a-1059-4548-8e19-ed4c905a1e81"
      },
      "source": [
        "df.isnull().sum()"
      ],
      "execution_count": null,
      "outputs": [
        {
          "output_type": "execute_result",
          "data": {
            "text/plain": [
              "Time      0\n",
              "V1        0\n",
              "V2        0\n",
              "V3        0\n",
              "V4        0\n",
              "V5        0\n",
              "V6        0\n",
              "V7        0\n",
              "V8        0\n",
              "V9        0\n",
              "V10       0\n",
              "V11       0\n",
              "V12       0\n",
              "V13       0\n",
              "V14       0\n",
              "V15       0\n",
              "V16       0\n",
              "V17       0\n",
              "V18       0\n",
              "V19       0\n",
              "V20       0\n",
              "V21       0\n",
              "V22       0\n",
              "V23       0\n",
              "V24       0\n",
              "V25       0\n",
              "V26       0\n",
              "V27       0\n",
              "V28       0\n",
              "Amount    0\n",
              "Class     0\n",
              "dtype: int64"
            ]
          },
          "metadata": {},
          "execution_count": 6
        }
      ]
    },
    {
      "cell_type": "code",
      "metadata": {
        "colab": {
          "base_uri": "https://localhost:8080/"
        },
        "id": "p_om221eFBD7",
        "outputId": "ce573181-c965-45b7-a595-dc97570e0070"
      },
      "source": [
        "df.isnull().count()"
      ],
      "execution_count": null,
      "outputs": [
        {
          "output_type": "execute_result",
          "data": {
            "text/plain": [
              "Time      284807\n",
              "V1        284807\n",
              "V2        284807\n",
              "V3        284807\n",
              "V4        284807\n",
              "V5        284807\n",
              "V6        284807\n",
              "V7        284807\n",
              "V8        284807\n",
              "V9        284807\n",
              "V10       284807\n",
              "V11       284807\n",
              "V12       284807\n",
              "V13       284807\n",
              "V14       284807\n",
              "V15       284807\n",
              "V16       284807\n",
              "V17       284807\n",
              "V18       284807\n",
              "V19       284807\n",
              "V20       284807\n",
              "V21       284807\n",
              "V22       284807\n",
              "V23       284807\n",
              "V24       284807\n",
              "V25       284807\n",
              "V26       284807\n",
              "V27       284807\n",
              "V28       284807\n",
              "Amount    284807\n",
              "Class     284807\n",
              "dtype: int64"
            ]
          },
          "metadata": {},
          "execution_count": 7
        }
      ]
    },
    {
      "cell_type": "code",
      "metadata": {
        "colab": {
          "base_uri": "https://localhost:8080/"
        },
        "id": "1Weg-ZXdFNqX",
        "outputId": "de76ca85-2cbb-4c67-e5c0-363590437cb6"
      },
      "source": [
        "df.shape"
      ],
      "execution_count": null,
      "outputs": [
        {
          "output_type": "execute_result",
          "data": {
            "text/plain": [
              "(284807, 31)"
            ]
          },
          "metadata": {},
          "execution_count": 8
        }
      ]
    },
    {
      "cell_type": "code",
      "metadata": {
        "colab": {
          "base_uri": "https://localhost:8080/"
        },
        "id": "6tXkGvavFUrg",
        "outputId": "4a6ef638-86e8-442f-b613-9a10cf446a15"
      },
      "source": [
        "df['Class'].value_counts()"
      ],
      "execution_count": null,
      "outputs": [
        {
          "output_type": "execute_result",
          "data": {
            "text/plain": [
              "0    284315\n",
              "1       492\n",
              "Name: Class, dtype: int64"
            ]
          },
          "metadata": {},
          "execution_count": 9
        }
      ]
    },
    {
      "cell_type": "code",
      "metadata": {
        "colab": {
          "base_uri": "https://localhost:8080/",
          "height": 350
        },
        "id": "Mgr6tk9VFUsa",
        "outputId": "0bbca673-d03c-402c-fcc9-1e3c46dc67d1"
      },
      "source": [
        "sns.countplot('Class',data=df)\n",
        "#Highly imbalanced dataset"
      ],
      "execution_count": null,
      "outputs": [
        {
          "output_type": "stream",
          "name": "stderr",
          "text": [
            "/usr/local/lib/python3.7/dist-packages/seaborn/_decorators.py:43: FutureWarning: Pass the following variable as a keyword arg: x. From version 0.12, the only valid positional argument will be `data`, and passing other arguments without an explicit keyword will result in an error or misinterpretation.\n",
            "  FutureWarning\n"
          ]
        },
        {
          "output_type": "execute_result",
          "data": {
            "text/plain": [
              "<matplotlib.axes._subplots.AxesSubplot at 0x7f78827c1dd0>"
            ]
          },
          "metadata": {},
          "execution_count": 10
        },
        {
          "output_type": "display_data",
          "data": {
            "image/png": "[encoded data removed]",
            "text/plain": [
              "<Figure size 432x288 with 1 Axes>"
            ]
          },
          "metadata": {
            "needs_background": "light"
          }
        }
      ]
    },
    {
      "cell_type": "code",
      "metadata": {
        "id": "pJYJKdSsHkM1"
      },
      "source": [
        "X=df.drop('Class',axis=1)#independent feature\n",
        "y=df['Class']#dependent feature"
      ],
      "execution_count": 5,
      "outputs": []
    },
    {
      "cell_type": "code",
      "metadata": {
        "id": "uXtC2csxFUww"
      },
      "source": [
        "#To scale down the value we will use minmax scaler for this case\n",
        "from sklearn.model_selection import train_test_split\n",
        "X_train,X_test,y_train,y_test=train_test_split(X,y,train_size=0.7)"
      ],
      "execution_count": 6,
      "outputs": []
    },
    {
      "cell_type": "code",
      "metadata": {
        "colab": {
          "base_uri": "https://localhost:8080/",
          "height": 1000
        },
        "id": "RHFGyzKQHujC",
        "outputId": "a43c73b0-2212-4ba8-c150-2ebd10d53d38"
      },
      "source": [
        "X_train.corr()"
      ],
      "execution_count": 7,
      "outputs": [
        {
          "output_type": "execute_result",
          "data": {
            "text/html": [
              "<div>\n",
              "<style scoped>\n",
              "    .dataframe tbody tr th:only-of-type {\n",
              "        vertical-align: middle;\n",
              "    }\n",
              "\n",
              "    .dataframe tbody tr th {\n",
              "        vertical-align: top;\n",
              "    }\n",
              "\n",
              "    .dataframe thead th {\n",
              "        text-align: right;\n",
              "    }\n",
              "</style>\n",
              "<table border=\"1\" class=\"dataframe\">\n",
              "  <thead>\n",
              "    <tr style=\"text-align: right;\">\n",
              "      <th></th>\n",
              "      <th>Time</th>\n",
              "      <th>V1</th>\n",
              "      <th>V2</th>\n",
              "      <th>V3</th>\n",
              "      <th>V4</th>\n",
              "      <th>V5</th>\n",
              "      <th>V6</th>\n",
              "      <th>V7</th>\n",
              "      <th>V8</th>\n",
              "      <th>V9</th>\n",
              "      <th>V10</th>\n",
              "      <th>V11</th>\n",
              "      <th>V12</th>\n",
              "      <th>V13</th>\n",
              "      <th>V14</th>\n",
              "      <th>V15</th>\n",
              "      <th>V16</th>\n",
              "      <th>V17</th>\n",
              "      <th>V18</th>\n",
              "      <th>V19</th>\n",
              "      <th>V20</th>\n",
              "      <th>V21</th>\n",
              "      <th>V22</th>\n",
              "      <th>V23</th>\n",
              "      <th>V24</th>\n",
              "      <th>V25</th>\n",
              "      <th>V26</th>\n",
              "      <th>V27</th>\n",
              "      <th>V28</th>\n",
              "      <th>Amount</th>\n",
              "    </tr>\n",
              "  </thead>\n",
              "  <tbody>\n",
              "    <tr>\n",
              "      <th>Time</th>\n",
              "      <td>1.000000</td>\n",
              "      <td>0.117199</td>\n",
              "      <td>-0.009336</td>\n",
              "      <td>-0.422051</td>\n",
              "      <td>-0.105366</td>\n",
              "      <td>0.172454</td>\n",
              "      <td>-6.285982e-02</td>\n",
              "      <td>0.084191</td>\n",
              "      <td>-0.036579</td>\n",
              "      <td>-0.007505</td>\n",
              "      <td>0.029153</td>\n",
              "      <td>-0.247544</td>\n",
              "      <td>0.124407</td>\n",
              "      <td>-0.064943</td>\n",
              "      <td>-0.097503</td>\n",
              "      <td>-0.186211</td>\n",
              "      <td>0.011953</td>\n",
              "      <td>-0.071479</td>\n",
              "      <td>0.091134</td>\n",
              "      <td>2.945684e-02</td>\n",
              "      <td>-0.051531</td>\n",
              "      <td>0.046422</td>\n",
              "      <td>0.143787</td>\n",
              "      <td>0.051617</td>\n",
              "      <td>-0.017933</td>\n",
              "      <td>-0.234280</td>\n",
              "      <td>-0.040559</td>\n",
              "      <td>-0.005026</td>\n",
              "      <td>-0.011774</td>\n",
              "      <td>-0.011385</td>\n",
              "    </tr>\n",
              "    <tr>\n",
              "      <th>V1</th>\n",
              "      <td>0.117199</td>\n",
              "      <td>1.000000</td>\n",
              "      <td>0.008537</td>\n",
              "      <td>-0.005078</td>\n",
              "      <td>-0.000963</td>\n",
              "      <td>-0.008600</td>\n",
              "      <td>9.901982e-04</td>\n",
              "      <td>0.000351</td>\n",
              "      <td>0.004442</td>\n",
              "      <td>0.004413</td>\n",
              "      <td>0.004829</td>\n",
              "      <td>0.000373</td>\n",
              "      <td>-0.000273</td>\n",
              "      <td>0.002275</td>\n",
              "      <td>-0.000068</td>\n",
              "      <td>-0.000321</td>\n",
              "      <td>-0.001189</td>\n",
              "      <td>-0.000261</td>\n",
              "      <td>-0.001300</td>\n",
              "      <td>-8.413336e-04</td>\n",
              "      <td>-0.001174</td>\n",
              "      <td>-0.004624</td>\n",
              "      <td>-0.001288</td>\n",
              "      <td>-0.003338</td>\n",
              "      <td>0.000113</td>\n",
              "      <td>0.002682</td>\n",
              "      <td>0.000144</td>\n",
              "      <td>-0.006208</td>\n",
              "      <td>0.014435</td>\n",
              "      <td>-0.231364</td>\n",
              "    </tr>\n",
              "    <tr>\n",
              "      <th>V2</th>\n",
              "      <td>-0.009336</td>\n",
              "      <td>0.008537</td>\n",
              "      <td>1.000000</td>\n",
              "      <td>0.002038</td>\n",
              "      <td>-0.003689</td>\n",
              "      <td>-0.003827</td>\n",
              "      <td>3.134060e-03</td>\n",
              "      <td>0.002692</td>\n",
              "      <td>-0.003702</td>\n",
              "      <td>-0.002532</td>\n",
              "      <td>-0.002907</td>\n",
              "      <td>-0.001025</td>\n",
              "      <td>0.000683</td>\n",
              "      <td>-0.002153</td>\n",
              "      <td>0.000197</td>\n",
              "      <td>-0.000910</td>\n",
              "      <td>-0.001519</td>\n",
              "      <td>0.000801</td>\n",
              "      <td>-0.000048</td>\n",
              "      <td>-6.679750e-04</td>\n",
              "      <td>-0.005220</td>\n",
              "      <td>0.001182</td>\n",
              "      <td>-0.000132</td>\n",
              "      <td>-0.006370</td>\n",
              "      <td>-0.001426</td>\n",
              "      <td>-0.003138</td>\n",
              "      <td>-0.003256</td>\n",
              "      <td>-0.009671</td>\n",
              "      <td>0.013019</td>\n",
              "      <td>-0.530738</td>\n",
              "    </tr>\n",
              "    <tr>\n",
              "      <th>V3</th>\n",
              "      <td>-0.422051</td>\n",
              "      <td>-0.005078</td>\n",
              "      <td>0.002038</td>\n",
              "      <td>1.000000</td>\n",
              "      <td>0.000992</td>\n",
              "      <td>-0.002786</td>\n",
              "      <td>-2.683744e-03</td>\n",
              "      <td>-0.008248</td>\n",
              "      <td>0.005868</td>\n",
              "      <td>0.000754</td>\n",
              "      <td>0.002352</td>\n",
              "      <td>0.001221</td>\n",
              "      <td>0.000108</td>\n",
              "      <td>0.001347</td>\n",
              "      <td>0.000274</td>\n",
              "      <td>0.002109</td>\n",
              "      <td>-0.000695</td>\n",
              "      <td>-0.002050</td>\n",
              "      <td>-0.000331</td>\n",
              "      <td>-3.941715e-04</td>\n",
              "      <td>0.000709</td>\n",
              "      <td>-0.002816</td>\n",
              "      <td>-0.000141</td>\n",
              "      <td>-0.001470</td>\n",
              "      <td>0.000119</td>\n",
              "      <td>0.001214</td>\n",
              "      <td>-0.000785</td>\n",
              "      <td>-0.002637</td>\n",
              "      <td>0.011075</td>\n",
              "      <td>-0.213479</td>\n",
              "    </tr>\n",
              "    <tr>\n",
              "      <th>V4</th>\n",
              "      <td>-0.105366</td>\n",
              "      <td>-0.000963</td>\n",
              "      <td>-0.003689</td>\n",
              "      <td>0.000992</td>\n",
              "      <td>1.000000</td>\n",
              "      <td>0.000651</td>\n",
              "      <td>-2.377926e-03</td>\n",
              "      <td>0.001187</td>\n",
              "      <td>0.000322</td>\n",
              "      <td>0.004348</td>\n",
              "      <td>0.000903</td>\n",
              "      <td>-0.000327</td>\n",
              "      <td>0.002906</td>\n",
              "      <td>-0.000731</td>\n",
              "      <td>-0.000599</td>\n",
              "      <td>0.002068</td>\n",
              "      <td>-0.001781</td>\n",
              "      <td>-0.001592</td>\n",
              "      <td>0.001010</td>\n",
              "      <td>4.148890e-04</td>\n",
              "      <td>0.001952</td>\n",
              "      <td>-0.000278</td>\n",
              "      <td>0.000916</td>\n",
              "      <td>0.003012</td>\n",
              "      <td>0.000437</td>\n",
              "      <td>-0.000972</td>\n",
              "      <td>0.001158</td>\n",
              "      <td>0.002240</td>\n",
              "      <td>-0.004805</td>\n",
              "      <td>0.101305</td>\n",
              "    </tr>\n",
              "    <tr>\n",
              "      <th>V5</th>\n",
              "      <td>0.172454</td>\n",
              "      <td>-0.008600</td>\n",
              "      <td>-0.003827</td>\n",
              "      <td>-0.002786</td>\n",
              "      <td>0.000651</td>\n",
              "      <td>1.000000</td>\n",
              "      <td>-1.267382e-02</td>\n",
              "      <td>-0.022414</td>\n",
              "      <td>0.004797</td>\n",
              "      <td>0.003442</td>\n",
              "      <td>0.003943</td>\n",
              "      <td>0.000876</td>\n",
              "      <td>0.003564</td>\n",
              "      <td>-0.000003</td>\n",
              "      <td>0.002488</td>\n",
              "      <td>0.000497</td>\n",
              "      <td>-0.001248</td>\n",
              "      <td>-0.002112</td>\n",
              "      <td>0.001251</td>\n",
              "      <td>4.152978e-04</td>\n",
              "      <td>0.001204</td>\n",
              "      <td>0.000638</td>\n",
              "      <td>-0.000907</td>\n",
              "      <td>-0.003257</td>\n",
              "      <td>-0.001842</td>\n",
              "      <td>-0.001440</td>\n",
              "      <td>-0.001398</td>\n",
              "      <td>-0.005243</td>\n",
              "      <td>0.015705</td>\n",
              "      <td>-0.393951</td>\n",
              "    </tr>\n",
              "    <tr>\n",
              "      <th>V6</th>\n",
              "      <td>-0.062860</td>\n",
              "      <td>0.000990</td>\n",
              "      <td>0.003134</td>\n",
              "      <td>-0.002684</td>\n",
              "      <td>-0.002378</td>\n",
              "      <td>-0.012674</td>\n",
              "      <td>1.000000e+00</td>\n",
              "      <td>0.010051</td>\n",
              "      <td>-0.000424</td>\n",
              "      <td>0.000292</td>\n",
              "      <td>-0.003266</td>\n",
              "      <td>0.000739</td>\n",
              "      <td>-0.002252</td>\n",
              "      <td>0.000017</td>\n",
              "      <td>-0.001941</td>\n",
              "      <td>-0.000103</td>\n",
              "      <td>0.000974</td>\n",
              "      <td>0.000093</td>\n",
              "      <td>-0.001240</td>\n",
              "      <td>-1.375708e-07</td>\n",
              "      <td>-0.001318</td>\n",
              "      <td>0.002506</td>\n",
              "      <td>-0.000218</td>\n",
              "      <td>0.002596</td>\n",
              "      <td>0.001416</td>\n",
              "      <td>0.001291</td>\n",
              "      <td>-0.001411</td>\n",
              "      <td>0.006032</td>\n",
              "      <td>-0.010237</td>\n",
              "      <td>0.221738</td>\n",
              "    </tr>\n",
              "    <tr>\n",
              "      <th>V7</th>\n",
              "      <td>0.084191</td>\n",
              "      <td>0.000351</td>\n",
              "      <td>0.002692</td>\n",
              "      <td>-0.008248</td>\n",
              "      <td>0.001187</td>\n",
              "      <td>-0.022414</td>\n",
              "      <td>1.005134e-02</td>\n",
              "      <td>1.000000</td>\n",
              "      <td>0.006035</td>\n",
              "      <td>-0.002624</td>\n",
              "      <td>-0.004749</td>\n",
              "      <td>-0.001160</td>\n",
              "      <td>-0.003240</td>\n",
              "      <td>0.001677</td>\n",
              "      <td>-0.001583</td>\n",
              "      <td>-0.000830</td>\n",
              "      <td>0.001324</td>\n",
              "      <td>-0.002508</td>\n",
              "      <td>0.000570</td>\n",
              "      <td>1.276036e-03</td>\n",
              "      <td>-0.003009</td>\n",
              "      <td>-0.005209</td>\n",
              "      <td>0.002725</td>\n",
              "      <td>0.006792</td>\n",
              "      <td>-0.000774</td>\n",
              "      <td>0.003924</td>\n",
              "      <td>0.000351</td>\n",
              "      <td>0.014938</td>\n",
              "      <td>-0.022402</td>\n",
              "      <td>0.406604</td>\n",
              "    </tr>\n",
              "    <tr>\n",
              "      <th>V8</th>\n",
              "      <td>-0.036579</td>\n",
              "      <td>0.004442</td>\n",
              "      <td>-0.003702</td>\n",
              "      <td>0.005868</td>\n",
              "      <td>0.000322</td>\n",
              "      <td>0.004797</td>\n",
              "      <td>-4.242684e-04</td>\n",
              "      <td>0.006035</td>\n",
              "      <td>1.000000</td>\n",
              "      <td>0.000977</td>\n",
              "      <td>0.002332</td>\n",
              "      <td>0.001223</td>\n",
              "      <td>0.001622</td>\n",
              "      <td>0.001722</td>\n",
              "      <td>0.001733</td>\n",
              "      <td>0.001453</td>\n",
              "      <td>0.002081</td>\n",
              "      <td>0.000640</td>\n",
              "      <td>0.001190</td>\n",
              "      <td>-3.594573e-04</td>\n",
              "      <td>0.002482</td>\n",
              "      <td>-0.009375</td>\n",
              "      <td>0.006806</td>\n",
              "      <td>0.005141</td>\n",
              "      <td>0.000779</td>\n",
              "      <td>0.001605</td>\n",
              "      <td>0.000563</td>\n",
              "      <td>-0.000916</td>\n",
              "      <td>0.002814</td>\n",
              "      <td>-0.104669</td>\n",
              "    </tr>\n",
              "    <tr>\n",
              "      <th>V9</th>\n",
              "      <td>-0.007505</td>\n",
              "      <td>0.004413</td>\n",
              "      <td>-0.002532</td>\n",
              "      <td>0.000754</td>\n",
              "      <td>0.004348</td>\n",
              "      <td>0.003442</td>\n",
              "      <td>2.916323e-04</td>\n",
              "      <td>-0.002624</td>\n",
              "      <td>0.000977</td>\n",
              "      <td>1.000000</td>\n",
              "      <td>-0.005142</td>\n",
              "      <td>-0.000808</td>\n",
              "      <td>0.001642</td>\n",
              "      <td>-0.000342</td>\n",
              "      <td>-0.000081</td>\n",
              "      <td>-0.000097</td>\n",
              "      <td>0.002525</td>\n",
              "      <td>0.001401</td>\n",
              "      <td>0.000160</td>\n",
              "      <td>-1.006949e-03</td>\n",
              "      <td>-0.001678</td>\n",
              "      <td>0.001058</td>\n",
              "      <td>-0.001832</td>\n",
              "      <td>0.000184</td>\n",
              "      <td>0.001225</td>\n",
              "      <td>-0.003811</td>\n",
              "      <td>0.001655</td>\n",
              "      <td>0.001300</td>\n",
              "      <td>-0.004074</td>\n",
              "      <td>-0.043996</td>\n",
              "    </tr>\n",
              "    <tr>\n",
              "      <th>V10</th>\n",
              "      <td>0.029153</td>\n",
              "      <td>0.004829</td>\n",
              "      <td>-0.002907</td>\n",
              "      <td>0.002352</td>\n",
              "      <td>0.000903</td>\n",
              "      <td>0.003943</td>\n",
              "      <td>-3.266227e-03</td>\n",
              "      <td>-0.004749</td>\n",
              "      <td>0.002332</td>\n",
              "      <td>-0.005142</td>\n",
              "      <td>1.000000</td>\n",
              "      <td>0.000016</td>\n",
              "      <td>-0.001280</td>\n",
              "      <td>-0.000340</td>\n",
              "      <td>0.001280</td>\n",
              "      <td>-0.000302</td>\n",
              "      <td>-0.000907</td>\n",
              "      <td>0.002880</td>\n",
              "      <td>0.000428</td>\n",
              "      <td>1.437428e-03</td>\n",
              "      <td>-0.004617</td>\n",
              "      <td>0.000127</td>\n",
              "      <td>0.000532</td>\n",
              "      <td>-0.000355</td>\n",
              "      <td>0.002009</td>\n",
              "      <td>-0.003061</td>\n",
              "      <td>-0.001795</td>\n",
              "      <td>0.002340</td>\n",
              "      <td>-0.003489</td>\n",
              "      <td>-0.104346</td>\n",
              "    </tr>\n",
              "    <tr>\n",
              "      <th>V11</th>\n",
              "      <td>-0.247544</td>\n",
              "      <td>0.000373</td>\n",
              "      <td>-0.001025</td>\n",
              "      <td>0.001221</td>\n",
              "      <td>-0.000327</td>\n",
              "      <td>0.000876</td>\n",
              "      <td>7.393419e-04</td>\n",
              "      <td>-0.001160</td>\n",
              "      <td>0.001223</td>\n",
              "      <td>-0.000808</td>\n",
              "      <td>0.000016</td>\n",
              "      <td>1.000000</td>\n",
              "      <td>0.003577</td>\n",
              "      <td>-0.001940</td>\n",
              "      <td>-0.000553</td>\n",
              "      <td>-0.000402</td>\n",
              "      <td>-0.000374</td>\n",
              "      <td>0.000087</td>\n",
              "      <td>-0.001302</td>\n",
              "      <td>-1.555442e-03</td>\n",
              "      <td>-0.002350</td>\n",
              "      <td>-0.000440</td>\n",
              "      <td>-0.000806</td>\n",
              "      <td>-0.001429</td>\n",
              "      <td>-0.000736</td>\n",
              "      <td>0.001430</td>\n",
              "      <td>-0.000549</td>\n",
              "      <td>0.002738</td>\n",
              "      <td>-0.001719</td>\n",
              "      <td>-0.000175</td>\n",
              "    </tr>\n",
              "    <tr>\n",
              "      <th>V12</th>\n",
              "      <td>0.124407</td>\n",
              "      <td>-0.000273</td>\n",
              "      <td>0.000683</td>\n",
              "      <td>0.000108</td>\n",
              "      <td>0.002906</td>\n",
              "      <td>0.003564</td>\n",
              "      <td>-2.251691e-03</td>\n",
              "      <td>-0.003240</td>\n",
              "      <td>0.001622</td>\n",
              "      <td>0.001642</td>\n",
              "      <td>-0.001280</td>\n",
              "      <td>0.003577</td>\n",
              "      <td>1.000000</td>\n",
              "      <td>0.004169</td>\n",
              "      <td>-0.000125</td>\n",
              "      <td>-0.003385</td>\n",
              "      <td>-0.001560</td>\n",
              "      <td>0.000699</td>\n",
              "      <td>-0.000149</td>\n",
              "      <td>-1.793808e-04</td>\n",
              "      <td>0.002666</td>\n",
              "      <td>0.001508</td>\n",
              "      <td>-0.000482</td>\n",
              "      <td>-0.002150</td>\n",
              "      <td>-0.002651</td>\n",
              "      <td>-0.001451</td>\n",
              "      <td>0.001218</td>\n",
              "      <td>-0.000127</td>\n",
              "      <td>0.000919</td>\n",
              "      <td>-0.011175</td>\n",
              "    </tr>\n",
              "    <tr>\n",
              "      <th>V13</th>\n",
              "      <td>-0.064943</td>\n",
              "      <td>0.002275</td>\n",
              "      <td>-0.002153</td>\n",
              "      <td>0.001347</td>\n",
              "      <td>-0.000731</td>\n",
              "      <td>-0.000003</td>\n",
              "      <td>1.731440e-05</td>\n",
              "      <td>0.001677</td>\n",
              "      <td>0.001722</td>\n",
              "      <td>-0.000342</td>\n",
              "      <td>-0.000340</td>\n",
              "      <td>-0.001940</td>\n",
              "      <td>0.004169</td>\n",
              "      <td>1.000000</td>\n",
              "      <td>-0.001466</td>\n",
              "      <td>-0.000456</td>\n",
              "      <td>-0.000578</td>\n",
              "      <td>-0.001938</td>\n",
              "      <td>0.000202</td>\n",
              "      <td>4.495965e-05</td>\n",
              "      <td>-0.001300</td>\n",
              "      <td>-0.002410</td>\n",
              "      <td>0.000104</td>\n",
              "      <td>0.002852</td>\n",
              "      <td>0.000923</td>\n",
              "      <td>0.000455</td>\n",
              "      <td>0.000119</td>\n",
              "      <td>0.002138</td>\n",
              "      <td>-0.002058</td>\n",
              "      <td>0.005780</td>\n",
              "    </tr>\n",
              "    <tr>\n",
              "      <th>V14</th>\n",
              "      <td>-0.097503</td>\n",
              "      <td>-0.000068</td>\n",
              "      <td>0.000197</td>\n",
              "      <td>0.000274</td>\n",
              "      <td>-0.000599</td>\n",
              "      <td>0.002488</td>\n",
              "      <td>-1.940551e-03</td>\n",
              "      <td>-0.001583</td>\n",
              "      <td>0.001733</td>\n",
              "      <td>-0.000081</td>\n",
              "      <td>0.001280</td>\n",
              "      <td>-0.000553</td>\n",
              "      <td>-0.000125</td>\n",
              "      <td>-0.001466</td>\n",
              "      <td>1.000000</td>\n",
              "      <td>-0.001011</td>\n",
              "      <td>0.000543</td>\n",
              "      <td>0.000304</td>\n",
              "      <td>-0.000768</td>\n",
              "      <td>-1.207975e-03</td>\n",
              "      <td>0.001949</td>\n",
              "      <td>-0.001249</td>\n",
              "      <td>0.000191</td>\n",
              "      <td>-0.001490</td>\n",
              "      <td>0.000346</td>\n",
              "      <td>-0.000325</td>\n",
              "      <td>0.001686</td>\n",
              "      <td>-0.003211</td>\n",
              "      <td>0.005146</td>\n",
              "      <td>0.031170</td>\n",
              "    </tr>\n",
              "    <tr>\n",
              "      <th>V15</th>\n",
              "      <td>-0.186211</td>\n",
              "      <td>-0.000321</td>\n",
              "      <td>-0.000910</td>\n",
              "      <td>0.002109</td>\n",
              "      <td>0.002068</td>\n",
              "      <td>0.000497</td>\n",
              "      <td>-1.025162e-04</td>\n",
              "      <td>-0.000830</td>\n",
              "      <td>0.001453</td>\n",
              "      <td>-0.000097</td>\n",
              "      <td>-0.000302</td>\n",
              "      <td>-0.000402</td>\n",
              "      <td>-0.003385</td>\n",
              "      <td>-0.000456</td>\n",
              "      <td>-0.001011</td>\n",
              "      <td>1.000000</td>\n",
              "      <td>0.000984</td>\n",
              "      <td>-0.000942</td>\n",
              "      <td>0.001020</td>\n",
              "      <td>1.127857e-03</td>\n",
              "      <td>0.000402</td>\n",
              "      <td>-0.002239</td>\n",
              "      <td>-0.001083</td>\n",
              "      <td>0.001187</td>\n",
              "      <td>0.001072</td>\n",
              "      <td>-0.000916</td>\n",
              "      <td>0.000798</td>\n",
              "      <td>0.001873</td>\n",
              "      <td>-0.003415</td>\n",
              "      <td>-0.001326</td>\n",
              "    </tr>\n",
              "    <tr>\n",
              "      <th>V16</th>\n",
              "      <td>0.011953</td>\n",
              "      <td>-0.001189</td>\n",
              "      <td>-0.001519</td>\n",
              "      <td>-0.000695</td>\n",
              "      <td>-0.001781</td>\n",
              "      <td>-0.001248</td>\n",
              "      <td>9.738473e-04</td>\n",
              "      <td>0.001324</td>\n",
              "      <td>0.002081</td>\n",
              "      <td>0.002525</td>\n",
              "      <td>-0.000907</td>\n",
              "      <td>-0.000374</td>\n",
              "      <td>-0.001560</td>\n",
              "      <td>-0.000578</td>\n",
              "      <td>0.000543</td>\n",
              "      <td>0.000984</td>\n",
              "      <td>1.000000</td>\n",
              "      <td>-0.001258</td>\n",
              "      <td>0.001349</td>\n",
              "      <td>9.662420e-05</td>\n",
              "      <td>-0.001646</td>\n",
              "      <td>0.001341</td>\n",
              "      <td>0.000413</td>\n",
              "      <td>0.001124</td>\n",
              "      <td>0.000453</td>\n",
              "      <td>0.000279</td>\n",
              "      <td>0.001841</td>\n",
              "      <td>0.005697</td>\n",
              "      <td>-0.007372</td>\n",
              "      <td>-0.000799</td>\n",
              "    </tr>\n",
              "    <tr>\n",
              "      <th>V17</th>\n",
              "      <td>-0.071479</td>\n",
              "      <td>-0.000261</td>\n",
              "      <td>0.000801</td>\n",
              "      <td>-0.002050</td>\n",
              "      <td>-0.001592</td>\n",
              "      <td>-0.002112</td>\n",
              "      <td>9.312436e-05</td>\n",
              "      <td>-0.002508</td>\n",
              "      <td>0.000640</td>\n",
              "      <td>0.001401</td>\n",
              "      <td>0.002880</td>\n",
              "      <td>0.000087</td>\n",
              "      <td>0.000699</td>\n",
              "      <td>-0.001938</td>\n",
              "      <td>0.000304</td>\n",
              "      <td>-0.000942</td>\n",
              "      <td>-0.001258</td>\n",
              "      <td>1.000000</td>\n",
              "      <td>-0.000312</td>\n",
              "      <td>-8.168199e-04</td>\n",
              "      <td>0.001853</td>\n",
              "      <td>0.000996</td>\n",
              "      <td>0.000140</td>\n",
              "      <td>0.002205</td>\n",
              "      <td>0.000502</td>\n",
              "      <td>0.001695</td>\n",
              "      <td>0.000579</td>\n",
              "      <td>-0.000378</td>\n",
              "      <td>0.003238</td>\n",
              "      <td>0.005622</td>\n",
              "    </tr>\n",
              "    <tr>\n",
              "      <th>V18</th>\n",
              "      <td>0.091134</td>\n",
              "      <td>-0.001300</td>\n",
              "      <td>-0.000048</td>\n",
              "      <td>-0.000331</td>\n",
              "      <td>0.001010</td>\n",
              "      <td>0.001251</td>\n",
              "      <td>-1.240018e-03</td>\n",
              "      <td>0.000570</td>\n",
              "      <td>0.001190</td>\n",
              "      <td>0.000160</td>\n",
              "      <td>0.000428</td>\n",
              "      <td>-0.001302</td>\n",
              "      <td>-0.000149</td>\n",
              "      <td>0.000202</td>\n",
              "      <td>-0.000768</td>\n",
              "      <td>0.001020</td>\n",
              "      <td>0.001349</td>\n",
              "      <td>-0.000312</td>\n",
              "      <td>1.000000</td>\n",
              "      <td>7.989781e-04</td>\n",
              "      <td>0.001079</td>\n",
              "      <td>0.000129</td>\n",
              "      <td>0.001108</td>\n",
              "      <td>0.002968</td>\n",
              "      <td>0.001341</td>\n",
              "      <td>0.001174</td>\n",
              "      <td>-0.001523</td>\n",
              "      <td>0.000986</td>\n",
              "      <td>0.000945</td>\n",
              "      <td>0.033621</td>\n",
              "    </tr>\n",
              "    <tr>\n",
              "      <th>V19</th>\n",
              "      <td>0.029457</td>\n",
              "      <td>-0.000841</td>\n",
              "      <td>-0.000668</td>\n",
              "      <td>-0.000394</td>\n",
              "      <td>0.000415</td>\n",
              "      <td>0.000415</td>\n",
              "      <td>-1.375708e-07</td>\n",
              "      <td>0.001276</td>\n",
              "      <td>-0.000359</td>\n",
              "      <td>-0.001007</td>\n",
              "      <td>0.001437</td>\n",
              "      <td>-0.001555</td>\n",
              "      <td>-0.000179</td>\n",
              "      <td>0.000045</td>\n",
              "      <td>-0.001208</td>\n",
              "      <td>0.001128</td>\n",
              "      <td>0.000097</td>\n",
              "      <td>-0.000817</td>\n",
              "      <td>0.000799</td>\n",
              "      <td>1.000000e+00</td>\n",
              "      <td>-0.001782</td>\n",
              "      <td>-0.002045</td>\n",
              "      <td>-0.001958</td>\n",
              "      <td>0.001308</td>\n",
              "      <td>0.002309</td>\n",
              "      <td>0.001242</td>\n",
              "      <td>0.000505</td>\n",
              "      <td>0.003225</td>\n",
              "      <td>-0.002880</td>\n",
              "      <td>-0.054363</td>\n",
              "    </tr>\n",
              "    <tr>\n",
              "      <th>V20</th>\n",
              "      <td>-0.051531</td>\n",
              "      <td>-0.001174</td>\n",
              "      <td>-0.005220</td>\n",
              "      <td>0.000709</td>\n",
              "      <td>0.001952</td>\n",
              "      <td>0.001204</td>\n",
              "      <td>-1.317931e-03</td>\n",
              "      <td>-0.003009</td>\n",
              "      <td>0.002482</td>\n",
              "      <td>-0.001678</td>\n",
              "      <td>-0.004617</td>\n",
              "      <td>-0.002350</td>\n",
              "      <td>0.002666</td>\n",
              "      <td>-0.001300</td>\n",
              "      <td>0.001949</td>\n",
              "      <td>0.000402</td>\n",
              "      <td>-0.001646</td>\n",
              "      <td>0.001853</td>\n",
              "      <td>0.001079</td>\n",
              "      <td>-1.781901e-03</td>\n",
              "      <td>1.000000</td>\n",
              "      <td>0.002013</td>\n",
              "      <td>-0.000836</td>\n",
              "      <td>0.005436</td>\n",
              "      <td>-0.000574</td>\n",
              "      <td>0.001998</td>\n",
              "      <td>-0.001221</td>\n",
              "      <td>-0.022927</td>\n",
              "      <td>0.033217</td>\n",
              "      <td>0.330154</td>\n",
              "    </tr>\n",
              "    <tr>\n",
              "      <th>V21</th>\n",
              "      <td>0.046422</td>\n",
              "      <td>-0.004624</td>\n",
              "      <td>0.001182</td>\n",
              "      <td>-0.002816</td>\n",
              "      <td>-0.000278</td>\n",
              "      <td>0.000638</td>\n",
              "      <td>2.506074e-03</td>\n",
              "      <td>-0.005209</td>\n",
              "      <td>-0.009375</td>\n",
              "      <td>0.001058</td>\n",
              "      <td>0.000127</td>\n",
              "      <td>-0.000440</td>\n",
              "      <td>0.001508</td>\n",
              "      <td>-0.002410</td>\n",
              "      <td>-0.001249</td>\n",
              "      <td>-0.002239</td>\n",
              "      <td>0.001341</td>\n",
              "      <td>0.000996</td>\n",
              "      <td>0.000129</td>\n",
              "      <td>-2.045468e-03</td>\n",
              "      <td>0.002013</td>\n",
              "      <td>1.000000</td>\n",
              "      <td>-0.000819</td>\n",
              "      <td>0.007023</td>\n",
              "      <td>-0.001901</td>\n",
              "      <td>0.000854</td>\n",
              "      <td>-0.000072</td>\n",
              "      <td>-0.004697</td>\n",
              "      <td>0.010385</td>\n",
              "      <td>0.101703</td>\n",
              "    </tr>\n",
              "    <tr>\n",
              "      <th>V22</th>\n",
              "      <td>0.143787</td>\n",
              "      <td>-0.001288</td>\n",
              "      <td>-0.000132</td>\n",
              "      <td>-0.000141</td>\n",
              "      <td>0.000916</td>\n",
              "      <td>-0.000907</td>\n",
              "      <td>-2.176085e-04</td>\n",
              "      <td>0.002725</td>\n",
              "      <td>0.006806</td>\n",
              "      <td>-0.001832</td>\n",
              "      <td>0.000532</td>\n",
              "      <td>-0.000806</td>\n",
              "      <td>-0.000482</td>\n",
              "      <td>0.000104</td>\n",
              "      <td>0.000191</td>\n",
              "      <td>-0.001083</td>\n",
              "      <td>0.000413</td>\n",
              "      <td>0.000140</td>\n",
              "      <td>0.001108</td>\n",
              "      <td>-1.957722e-03</td>\n",
              "      <td>-0.000836</td>\n",
              "      <td>-0.000819</td>\n",
              "      <td>1.000000</td>\n",
              "      <td>-0.001201</td>\n",
              "      <td>0.000958</td>\n",
              "      <td>-0.001199</td>\n",
              "      <td>-0.000633</td>\n",
              "      <td>0.001949</td>\n",
              "      <td>-0.001699</td>\n",
              "      <td>-0.061761</td>\n",
              "    </tr>\n",
              "    <tr>\n",
              "      <th>V23</th>\n",
              "      <td>0.051617</td>\n",
              "      <td>-0.003338</td>\n",
              "      <td>-0.006370</td>\n",
              "      <td>-0.001470</td>\n",
              "      <td>0.003012</td>\n",
              "      <td>-0.003257</td>\n",
              "      <td>2.596105e-03</td>\n",
              "      <td>0.006792</td>\n",
              "      <td>0.005141</td>\n",
              "      <td>0.000184</td>\n",
              "      <td>-0.000355</td>\n",
              "      <td>-0.001429</td>\n",
              "      <td>-0.002150</td>\n",
              "      <td>0.002852</td>\n",
              "      <td>-0.001490</td>\n",
              "      <td>0.001187</td>\n",
              "      <td>0.001124</td>\n",
              "      <td>0.002205</td>\n",
              "      <td>0.002968</td>\n",
              "      <td>1.307696e-03</td>\n",
              "      <td>0.005436</td>\n",
              "      <td>0.007023</td>\n",
              "      <td>-0.001201</td>\n",
              "      <td>1.000000</td>\n",
              "      <td>-0.001661</td>\n",
              "      <td>0.009331</td>\n",
              "      <td>0.001459</td>\n",
              "      <td>-0.003547</td>\n",
              "      <td>-0.002265</td>\n",
              "      <td>-0.105273</td>\n",
              "    </tr>\n",
              "    <tr>\n",
              "      <th>V24</th>\n",
              "      <td>-0.017933</td>\n",
              "      <td>0.000113</td>\n",
              "      <td>-0.001426</td>\n",
              "      <td>0.000119</td>\n",
              "      <td>0.000437</td>\n",
              "      <td>-0.001842</td>\n",
              "      <td>1.416025e-03</td>\n",
              "      <td>-0.000774</td>\n",
              "      <td>0.000779</td>\n",
              "      <td>0.001225</td>\n",
              "      <td>0.002009</td>\n",
              "      <td>-0.000736</td>\n",
              "      <td>-0.002651</td>\n",
              "      <td>0.000923</td>\n",
              "      <td>0.000346</td>\n",
              "      <td>0.001072</td>\n",
              "      <td>0.000453</td>\n",
              "      <td>0.000502</td>\n",
              "      <td>0.001341</td>\n",
              "      <td>2.309045e-03</td>\n",
              "      <td>-0.000574</td>\n",
              "      <td>-0.001901</td>\n",
              "      <td>0.000958</td>\n",
              "      <td>-0.001661</td>\n",
              "      <td>1.000000</td>\n",
              "      <td>-0.001219</td>\n",
              "      <td>0.000325</td>\n",
              "      <td>0.002959</td>\n",
              "      <td>-0.002044</td>\n",
              "      <td>0.006760</td>\n",
              "    </tr>\n",
              "    <tr>\n",
              "      <th>V25</th>\n",
              "      <td>-0.234280</td>\n",
              "      <td>0.002682</td>\n",
              "      <td>-0.003138</td>\n",
              "      <td>0.001214</td>\n",
              "      <td>-0.000972</td>\n",
              "      <td>-0.001440</td>\n",
              "      <td>1.291484e-03</td>\n",
              "      <td>0.003924</td>\n",
              "      <td>0.001605</td>\n",
              "      <td>-0.003811</td>\n",
              "      <td>-0.003061</td>\n",
              "      <td>0.001430</td>\n",
              "      <td>-0.001451</td>\n",
              "      <td>0.000455</td>\n",
              "      <td>-0.000325</td>\n",
              "      <td>-0.000916</td>\n",
              "      <td>0.000279</td>\n",
              "      <td>0.001695</td>\n",
              "      <td>0.001174</td>\n",
              "      <td>1.242127e-03</td>\n",
              "      <td>0.001998</td>\n",
              "      <td>0.000854</td>\n",
              "      <td>-0.001199</td>\n",
              "      <td>0.009331</td>\n",
              "      <td>-0.001219</td>\n",
              "      <td>1.000000</td>\n",
              "      <td>0.000908</td>\n",
              "      <td>0.002759</td>\n",
              "      <td>-0.008551</td>\n",
              "      <td>-0.043721</td>\n",
              "    </tr>\n",
              "    <tr>\n",
              "      <th>V26</th>\n",
              "      <td>-0.040559</td>\n",
              "      <td>0.000144</td>\n",
              "      <td>-0.003256</td>\n",
              "      <td>-0.000785</td>\n",
              "      <td>0.001158</td>\n",
              "      <td>-0.001398</td>\n",
              "      <td>-1.410809e-03</td>\n",
              "      <td>0.000351</td>\n",
              "      <td>0.000563</td>\n",
              "      <td>0.001655</td>\n",
              "      <td>-0.001795</td>\n",
              "      <td>-0.000549</td>\n",
              "      <td>0.001218</td>\n",
              "      <td>0.000119</td>\n",
              "      <td>0.001686</td>\n",
              "      <td>0.000798</td>\n",
              "      <td>0.001841</td>\n",
              "      <td>0.000579</td>\n",
              "      <td>-0.001523</td>\n",
              "      <td>5.047015e-04</td>\n",
              "      <td>-0.001221</td>\n",
              "      <td>-0.000072</td>\n",
              "      <td>-0.000633</td>\n",
              "      <td>0.001459</td>\n",
              "      <td>0.000325</td>\n",
              "      <td>0.000908</td>\n",
              "      <td>1.000000</td>\n",
              "      <td>0.004590</td>\n",
              "      <td>-0.002438</td>\n",
              "      <td>-0.001353</td>\n",
              "    </tr>\n",
              "    <tr>\n",
              "      <th>V27</th>\n",
              "      <td>-0.005026</td>\n",
              "      <td>-0.006208</td>\n",
              "      <td>-0.009671</td>\n",
              "      <td>-0.002637</td>\n",
              "      <td>0.002240</td>\n",
              "      <td>-0.005243</td>\n",
              "      <td>6.031625e-03</td>\n",
              "      <td>0.014938</td>\n",
              "      <td>-0.000916</td>\n",
              "      <td>0.001300</td>\n",
              "      <td>0.002340</td>\n",
              "      <td>0.002738</td>\n",
              "      <td>-0.000127</td>\n",
              "      <td>0.002138</td>\n",
              "      <td>-0.003211</td>\n",
              "      <td>0.001873</td>\n",
              "      <td>0.005697</td>\n",
              "      <td>-0.000378</td>\n",
              "      <td>0.000986</td>\n",
              "      <td>3.225449e-03</td>\n",
              "      <td>-0.022927</td>\n",
              "      <td>-0.004697</td>\n",
              "      <td>0.001949</td>\n",
              "      <td>-0.003547</td>\n",
              "      <td>0.002959</td>\n",
              "      <td>0.002759</td>\n",
              "      <td>0.004590</td>\n",
              "      <td>1.000000</td>\n",
              "      <td>0.001214</td>\n",
              "      <td>0.041528</td>\n",
              "    </tr>\n",
              "    <tr>\n",
              "      <th>V28</th>\n",
              "      <td>-0.011774</td>\n",
              "      <td>0.014435</td>\n",
              "      <td>0.013019</td>\n",
              "      <td>0.011075</td>\n",
              "      <td>-0.004805</td>\n",
              "      <td>0.015705</td>\n",
              "      <td>-1.023710e-02</td>\n",
              "      <td>-0.022402</td>\n",
              "      <td>0.002814</td>\n",
              "      <td>-0.004074</td>\n",
              "      <td>-0.003489</td>\n",
              "      <td>-0.001719</td>\n",
              "      <td>0.000919</td>\n",
              "      <td>-0.002058</td>\n",
              "      <td>0.005146</td>\n",
              "      <td>-0.003415</td>\n",
              "      <td>-0.007372</td>\n",
              "      <td>0.003238</td>\n",
              "      <td>0.000945</td>\n",
              "      <td>-2.879618e-03</td>\n",
              "      <td>0.033217</td>\n",
              "      <td>0.010385</td>\n",
              "      <td>-0.001699</td>\n",
              "      <td>-0.002265</td>\n",
              "      <td>-0.002044</td>\n",
              "      <td>-0.008551</td>\n",
              "      <td>-0.002438</td>\n",
              "      <td>0.001214</td>\n",
              "      <td>1.000000</td>\n",
              "      <td>-0.004077</td>\n",
              "    </tr>\n",
              "    <tr>\n",
              "      <th>Amount</th>\n",
              "      <td>-0.011385</td>\n",
              "      <td>-0.231364</td>\n",
              "      <td>-0.530738</td>\n",
              "      <td>-0.213479</td>\n",
              "      <td>0.101305</td>\n",
              "      <td>-0.393951</td>\n",
              "      <td>2.217377e-01</td>\n",
              "      <td>0.406604</td>\n",
              "      <td>-0.104669</td>\n",
              "      <td>-0.043996</td>\n",
              "      <td>-0.104346</td>\n",
              "      <td>-0.000175</td>\n",
              "      <td>-0.011175</td>\n",
              "      <td>0.005780</td>\n",
              "      <td>0.031170</td>\n",
              "      <td>-0.001326</td>\n",
              "      <td>-0.000799</td>\n",
              "      <td>0.005622</td>\n",
              "      <td>0.033621</td>\n",
              "      <td>-5.436282e-02</td>\n",
              "      <td>0.330154</td>\n",
              "      <td>0.101703</td>\n",
              "      <td>-0.061761</td>\n",
              "      <td>-0.105273</td>\n",
              "      <td>0.006760</td>\n",
              "      <td>-0.043721</td>\n",
              "      <td>-0.001353</td>\n",
              "      <td>0.041528</td>\n",
              "      <td>-0.004077</td>\n",
              "      <td>1.000000</td>\n",
              "    </tr>\n",
              "  </tbody>\n",
              "</table>\n",
              "</div>"
            ],
            "text/plain": [
              "            Time        V1        V2  ...       V27       V28    Amount\n",
              "Time    1.000000  0.117199 -0.009336  ... -0.005026 -0.011774 -0.011385\n",
              "V1      0.117199  1.000000  0.008537  ... -0.006208  0.014435 -0.231364\n",
              "V2     -0.009336  0.008537  1.000000  ... -0.009671  0.013019 -0.530738\n",
              "V3     -0.422051 -0.005078  0.002038  ... -0.002637  0.011075 -0.213479\n",
              "V4     -0.105366 -0.000963 -0.003689  ...  0.002240 -0.004805  0.101305\n",
              "V5      0.172454 -0.008600 -0.003827  ... -0.005243  0.015705 -0.393951\n",
              "V6     -0.062860  0.000990  0.003134  ...  0.006032 -0.010237  0.221738\n",
              "V7      0.084191  0.000351  0.002692  ...  0.014938 -0.022402  0.406604\n",
              "V8     -0.036579  0.004442 -0.003702  ... -0.000916  0.002814 -0.104669\n",
              "V9     -0.007505  0.004413 -0.002532  ...  0.001300 -0.004074 -0.043996\n",
              "V10     0.029153  0.004829 -0.002907  ...  0.002340 -0.003489 -0.104346\n",
              "V11    -0.247544  0.000373 -0.001025  ...  0.002738 -0.001719 -0.000175\n",
              "V12     0.124407 -0.000273  0.000683  ... -0.000127  0.000919 -0.011175\n",
              "V13    -0.064943  0.002275 -0.002153  ...  0.002138 -0.002058  0.005780\n",
              "V14    -0.097503 -0.000068  0.000197  ... -0.003211  0.005146  0.031170\n",
              "V15    -0.186211 -0.000321 -0.000910  ...  0.001873 -0.003415 -0.001326\n",
              "V16     0.011953 -0.001189 -0.001519  ...  0.005697 -0.007372 -0.000799\n",
              "V17    -0.071479 -0.000261  0.000801  ... -0.000378  0.003238  0.005622\n",
              "V18     0.091134 -0.001300 -0.000048  ...  0.000986  0.000945  0.033621\n",
              "V19     0.029457 -0.000841 -0.000668  ...  0.003225 -0.002880 -0.054363\n",
              "V20    -0.051531 -0.001174 -0.005220  ... -0.022927  0.033217  0.330154\n",
              "V21     0.046422 -0.004624  0.001182  ... -0.004697  0.010385  0.101703\n",
              "V22     0.143787 -0.001288 -0.000132  ...  0.001949 -0.001699 -0.061761\n",
              "V23     0.051617 -0.003338 -0.006370  ... -0.003547 -0.002265 -0.105273\n",
              "V24    -0.017933  0.000113 -0.001426  ...  0.002959 -0.002044  0.006760\n",
              "V25    -0.234280  0.002682 -0.003138  ...  0.002759 -0.008551 -0.043721\n",
              "V26    -0.040559  0.000144 -0.003256  ...  0.004590 -0.002438 -0.001353\n",
              "V27    -0.005026 -0.006208 -0.009671  ...  1.000000  0.001214  0.041528\n",
              "V28    -0.011774  0.014435  0.013019  ...  0.001214  1.000000 -0.004077\n",
              "Amount -0.011385 -0.231364 -0.530738  ...  0.041528 -0.004077  1.000000\n",
              "\n",
              "[30 rows x 30 columns]"
            ]
          },
          "metadata": {},
          "execution_count": 7
        }
      ]
    },
    {
      "cell_type": "code",
      "metadata": {
        "colab": {
          "base_uri": "https://localhost:8080/",
          "height": 1000
        },
        "id": "wrXaQuorH8-l",
        "outputId": "62b7482a-b97b-40c4-e8dd-e2c111102642"
      },
      "source": [
        "plt.figure(figsize=(30,30))\n",
        "cor = X_train.corr()\n",
        "sns.heatmap(cor, annot=True, cmap=plt.cm.CMRmap_r)\n",
        "plt.show()"
      ],
      "execution_count": 8,
      "outputs": [
        {
          "output_type": "display_data",
          "data": {
            "image/png": "[encoded data removed]",
            "text/plain": [
              "<Figure size 2160x2160 with 2 Axes>"
            ]
          },
          "metadata": {
            "needs_background": "light"
          }
        }
      ]
    },
    {
      "cell_type": "code",
      "metadata": {
        "id": "XvgAWGALH9Hv"
      },
      "source": [
        "def correlation(dataset, threshold):\n",
        "    col_corr = set()  # Set of all the names of correlated columns\n",
        "    corr_matrix = dataset.corr()\n",
        "    for i in range(len(corr_matrix.columns)):\n",
        "        for j in range(i):\n",
        "            if abs(corr_matrix.iloc[i, j]) > threshold: # we are interested in absolute coeff value\n",
        "                colname = corr_matrix.columns[i]  # getting the name of column\n",
        "                col_corr.add(colname)\n",
        "    return col_corr"
      ],
      "execution_count": 9,
      "outputs": []
    },
    {
      "cell_type": "code",
      "metadata": {
        "colab": {
          "base_uri": "https://localhost:8080/"
        },
        "id": "cd6iG9pCH9T7",
        "outputId": "826e45d3-31db-4f61-ed00-abe33050d2b6"
      },
      "source": [
        "corr_features = correlation(X_train, 0.7)\n",
        "len(set(corr_features))"
      ],
      "execution_count": 10,
      "outputs": [
        {
          "output_type": "execute_result",
          "data": {
            "text/plain": [
              "0"
            ]
          },
          "metadata": {},
          "execution_count": 10
        }
      ]
    },
    {
      "cell_type": "code",
      "metadata": {
        "colab": {
          "base_uri": "https://localhost:8080/"
        },
        "id": "QWDHDol0H9e3",
        "outputId": "8aa22a5e-84ef-4e8b-c6cc-6c4f947a47fa"
      },
      "source": [
        "corr_features"
      ],
      "execution_count": 11,
      "outputs": [
        {
          "output_type": "execute_result",
          "data": {
            "text/plain": [
              "set()"
            ]
          },
          "metadata": {},
          "execution_count": 11
        }
      ]
    },
    {
      "cell_type": "markdown",
      "metadata": {
        "id": "20oYHhN5IQD3"
      },
      "source": [
        "**As we can see there is no correlation present in the dataset.There is no need of feture selection for this case**"
      ]
    },
    {
      "cell_type": "code",
      "metadata": {
        "colab": {
          "base_uri": "https://localhost:8080/"
        },
        "id": "o1F8eEQhFUxg",
        "outputId": "fecce9cd-e014-43d4-f7e8-95c2df342aa2"
      },
      "source": [
        "#lets balanced the imbalanced dataset before scaling\n",
        "from imblearn.over_sampling import RandomOverSampler\n",
        "from collections import Counter\n",
        "os=RandomOverSampler(0.75)\n",
        "X_train_os,y_train_os=os.fit_resample(X_train,y_train)\n",
        "print(\"The number of classes before fit {}\".format(Counter(y_train)))\n",
        "print(\"The number of classes after fit {}\".format(Counter(y_train_os)))"
      ],
      "execution_count": null,
      "outputs": [
        {
          "output_type": "stream",
          "name": "stderr",
          "text": [
            "/usr/local/lib/python3.7/dist-packages/imblearn/utils/_validation.py:591: FutureWarning: Pass sampling_strategy=0.75 as keyword args. From version 0.9 passing these as positional arguments will result in an error\n",
            "  FutureWarning,\n"
          ]
        },
        {
          "output_type": "stream",
          "name": "stdout",
          "text": [
            "The number of classes before fit Counter({0: 199024, 1: 340})\n",
            "The number of classes after fit Counter({0: 199024, 1: 149268})\n"
          ]
        }
      ]
    },
    {
      "cell_type": "code",
      "metadata": {
        "id": "rNH7WBNCONhQ"
      },
      "source": [
        "#lets scale down the data\n",
        "from sklearn.preprocessing import MinMaxScaler\n",
        "scaler=MinMaxScaler()\n",
        "X_train_scaled=scaler.fit_transform(X_train_os)"
      ],
      "execution_count": null,
      "outputs": []
    },
    {
      "cell_type": "code",
      "metadata": {
        "colab": {
          "base_uri": "https://localhost:8080/"
        },
        "id": "c-jN-DMbQiCG",
        "outputId": "e6cc580d-4dde-4780-e705-228776aeef6d"
      },
      "source": [
        "X_train_scaled"
      ],
      "execution_count": null,
      "outputs": [
        {
          "output_type": "execute_result",
          "data": {
            "text/plain": [
              "array([[8.70332430e-01, 9.47728333e-01, 7.78845842e-01, ...,\n",
              "        4.18866902e-01, 3.16018666e-01, 7.70693110e-05],\n",
              "       [3.05866148e-01, 9.39396504e-01, 7.59196637e-01, ...,\n",
              "        4.23512060e-01, 3.17928446e-01, 4.80710096e-03],\n",
              "       [3.07376670e-01, 9.80094444e-01, 7.52270736e-01, ...,\n",
              "        4.17414629e-01, 3.13615934e-01, 3.07498766e-03],\n",
              "       ...,\n",
              "       [3.19923837e-01, 8.60542955e-01, 7.73353005e-01, ...,\n",
              "        4.44299341e-01, 3.20419064e-01, 3.89238944e-05],\n",
              "       [9.31025303e-01, 9.47348297e-01, 8.20040577e-01, ...,\n",
              "        4.28766314e-01, 3.17021492e-01, 2.99713987e-05],\n",
              "       [2.93457879e-01, 8.14537509e-01, 8.39706906e-01, ...,\n",
              "        4.38106972e-01, 3.17777086e-01, 3.89200021e-03]])"
            ]
          },
          "metadata": {},
          "execution_count": 16
        }
      ]
    },
    {
      "cell_type": "code",
      "metadata": {
        "id": "Cx9s0ITpQ0en"
      },
      "source": [
        "X_test_scaled = scaler.transform(X_test)"
      ],
      "execution_count": null,
      "outputs": []
    },
    {
      "cell_type": "code",
      "metadata": {
        "colab": {
          "base_uri": "https://localhost:8080/"
        },
        "id": "1yD1Pow_RFCC",
        "outputId": "346f8d6e-2140-40f8-bc14-5ac41fe758ad"
      },
      "source": [
        "X_test_scaled"
      ],
      "execution_count": null,
      "outputs": [
        {
          "output_type": "execute_result",
          "data": {
            "text/plain": [
              "array([[3.36464338e-01, 9.76351930e-01, 7.55370109e-01, ...,\n",
              "        4.16803424e-01, 3.13788821e-01, 5.56339223e-03],\n",
              "       [3.65742991e-01, 9.83752327e-01, 7.54929376e-01, ...,\n",
              "        4.17729098e-01, 3.13468828e-01, 8.01832226e-04],\n",
              "       [3.83973424e-01, 9.32933399e-01, 7.90835114e-01, ...,\n",
              "        4.25705992e-01, 3.14420210e-01, 1.19107117e-04],\n",
              "       ...,\n",
              "       [3.96011297e-01, 9.75188888e-01, 7.55470642e-01, ...,\n",
              "        4.14811651e-01, 3.13665282e-01, 7.20014199e-03],\n",
              "       [8.05889298e-01, 8.60828739e-01, 7.81564216e-01, ...,\n",
              "        4.15419730e-01, 2.96139960e-01, 3.15945251e-03],\n",
              "       [2.90784082e-01, 9.36492400e-01, 7.86002086e-01, ...,\n",
              "        4.11256653e-01, 3.10068664e-01, 1.74768286e-04]])"
            ]
          },
          "metadata": {},
          "execution_count": 18
        }
      ]
    },
    {
      "cell_type": "code",
      "metadata": {
        "colab": {
          "base_uri": "https://localhost:8080/"
        },
        "id": "RhkNXwP2RIib",
        "outputId": "d097fe29-e4f4-4d40-a539-f4f37a1db3af"
      },
      "source": [
        "!pip install keras-tuner"
      ],
      "execution_count": null,
      "outputs": [
        {
          "output_type": "stream",
          "name": "stdout",
          "text": [
            "Requirement already satisfied: keras-tuner in /usr/local/lib/python3.7/dist-packages (1.1.0)\n",
            "Requirement already satisfied: tensorboard in /usr/local/lib/python3.7/dist-packages (from keras-tuner) (2.7.0)\n",
            "Requirement already satisfied: requests in /usr/local/lib/python3.7/dist-packages (from keras-tuner) (2.23.0)\n",
            "Requirement already satisfied: packaging in /usr/local/lib/python3.7/dist-packages (from keras-tuner) (21.2)\n",
            "Requirement already satisfied: ipython in /usr/local/lib/python3.7/dist-packages (from keras-tuner) (5.5.0)\n",
            "Requirement already satisfied: scipy in /usr/local/lib/python3.7/dist-packages (from keras-tuner) (1.4.1)\n",
            "Requirement already satisfied: kt-legacy in /usr/local/lib/python3.7/dist-packages (from keras-tuner) (1.0.4)\n",
            "Requirement already satisfied: numpy in /usr/local/lib/python3.7/dist-packages (from keras-tuner) (1.19.5)\n",
            "Requirement already satisfied: decorator in /usr/local/lib/python3.7/dist-packages (from ipython->keras-tuner) (4.4.2)\n",
            "Requirement already satisfied: pickleshare in /usr/local/lib/python3.7/dist-packages (from ipython->keras-tuner) (0.7.5)\n",
            "Requirement already satisfied: pygments in /usr/local/lib/python3.7/dist-packages (from ipython->keras-tuner) (2.6.1)\n",
            "Requirement already satisfied: simplegeneric>0.8 in /usr/local/lib/python3.7/dist-packages (from ipython->keras-tuner) (0.8.1)\n",
            "Requirement already satisfied: traitlets>=4.2 in /usr/local/lib/python3.7/dist-packages (from ipython->keras-tuner) (5.1.1)\n",
            "Requirement already satisfied: pexpect in /usr/local/lib/python3.7/dist-packages (from ipython->keras-tuner) (4.8.0)\n",
            "Requirement already satisfied: setuptools>=18.5 in /usr/local/lib/python3.7/dist-packages (from ipython->keras-tuner) (57.4.0)\n",
            "Requirement already satisfied: prompt-toolkit<2.0.0,>=1.0.4 in /usr/local/lib/python3.7/dist-packages (from ipython->keras-tuner) (1.0.18)\n",
            "Requirement already satisfied: six>=1.9.0 in /usr/local/lib/python3.7/dist-packages (from prompt-toolkit<2.0.0,>=1.0.4->ipython->keras-tuner) (1.15.0)\n",
            "Requirement already satisfied: wcwidth in /usr/local/lib/python3.7/dist-packages (from prompt-toolkit<2.0.0,>=1.0.4->ipython->keras-tuner) (0.2.5)\n",
            "Requirement already satisfied: pyparsing<3,>=2.0.2 in /usr/local/lib/python3.7/dist-packages (from packaging->keras-tuner) (2.4.7)\n",
            "Requirement already satisfied: ptyprocess>=0.5 in /usr/local/lib/python3.7/dist-packages (from pexpect->ipython->keras-tuner) (0.7.0)\n",
            "Requirement already satisfied: chardet<4,>=3.0.2 in /usr/local/lib/python3.7/dist-packages (from requests->keras-tuner) (3.0.4)\n",
            "Requirement already satisfied: urllib3!=1.25.0,!=1.25.1,<1.26,>=1.21.1 in /usr/local/lib/python3.7/dist-packages (from requests->keras-tuner) (1.24.3)\n",
            "Requirement already satisfied: idna<3,>=2.5 in /usr/local/lib/python3.7/dist-packages (from requests->keras-tuner) (2.10)\n",
            "Requirement already satisfied: certifi>=2017.4.17 in /usr/local/lib/python3.7/dist-packages (from requests->keras-tuner) (2021.10.8)\n",
            "Requirement already satisfied: markdown>=2.6.8 in /usr/local/lib/python3.7/dist-packages (from tensorboard->keras-tuner) (3.3.4)\n",
            "Requirement already satisfied: tensorboard-data-server<0.7.0,>=0.6.0 in /usr/local/lib/python3.7/dist-packages (from tensorboard->keras-tuner) (0.6.1)\n",
            "Requirement already satisfied: google-auth-oauthlib<0.5,>=0.4.1 in /usr/local/lib/python3.7/dist-packages (from tensorboard->keras-tuner) (0.4.6)\n",
            "Requirement already satisfied: werkzeug>=0.11.15 in /usr/local/lib/python3.7/dist-packages (from tensorboard->keras-tuner) (1.0.1)\n",
            "Requirement already satisfied: grpcio>=1.24.3 in /usr/local/lib/python3.7/dist-packages (from tensorboard->keras-tuner) (1.41.1)\n",
            "Requirement already satisfied: google-auth<3,>=1.6.3 in /usr/local/lib/python3.7/dist-packages (from tensorboard->keras-tuner) (1.35.0)\n",
            "Requirement already satisfied: protobuf>=3.6.0 in /usr/local/lib/python3.7/dist-packages (from tensorboard->keras-tuner) (3.17.3)\n",
            "Requirement already satisfied: absl-py>=0.4 in /usr/local/lib/python3.7/dist-packages (from tensorboard->keras-tuner) (0.12.0)\n",
            "Requirement already satisfied: wheel>=0.26 in /usr/local/lib/python3.7/dist-packages (from tensorboard->keras-tuner) (0.37.0)\n",
            "Requirement already satisfied: tensorboard-plugin-wit>=1.6.0 in /usr/local/lib/python3.7/dist-packages (from tensorboard->keras-tuner) (1.8.0)\n",
            "Requirement already satisfied: cachetools<5.0,>=2.0.0 in /usr/local/lib/python3.7/dist-packages (from google-auth<3,>=1.6.3->tensorboard->keras-tuner) (4.2.4)\n",
            "Requirement already satisfied: pyasn1-modules>=0.2.1 in /usr/local/lib/python3.7/dist-packages (from google-auth<3,>=1.6.3->tensorboard->keras-tuner) (0.2.8)\n",
            "Requirement already satisfied: rsa<5,>=3.1.4 in /usr/local/lib/python3.7/dist-packages (from google-auth<3,>=1.6.3->tensorboard->keras-tuner) (4.7.2)\n",
            "Requirement already satisfied: requests-oauthlib>=0.7.0 in /usr/local/lib/python3.7/dist-packages (from google-auth-oauthlib<0.5,>=0.4.1->tensorboard->keras-tuner) (1.3.0)\n",
            "Requirement already satisfied: importlib-metadata in /usr/local/lib/python3.7/dist-packages (from markdown>=2.6.8->tensorboard->keras-tuner) (4.8.2)\n",
            "Requirement already satisfied: pyasn1<0.5.0,>=0.4.6 in /usr/local/lib/python3.7/dist-packages (from pyasn1-modules>=0.2.1->google-auth<3,>=1.6.3->tensorboard->keras-tuner) (0.4.8)\n",
            "Requirement already satisfied: oauthlib>=3.0.0 in /usr/local/lib/python3.7/dist-packages (from requests-oauthlib>=0.7.0->google-auth-oauthlib<0.5,>=0.4.1->tensorboard->keras-tuner) (3.1.1)\n",
            "Requirement already satisfied: zipp>=0.5 in /usr/local/lib/python3.7/dist-packages (from importlib-metadata->markdown>=2.6.8->tensorboard->keras-tuner) (3.6.0)\n",
            "Requirement already satisfied: typing-extensions>=3.6.4 in /usr/local/lib/python3.7/dist-packages (from importlib-metadata->markdown>=2.6.8->tensorboard->keras-tuner) (3.10.0.2)\n"
          ]
        }
      ]
    },
    {
      "cell_type": "code",
      "metadata": {
        "id": "e8gOlwaESu0A"
      },
      "source": [
        "from keras_tuner.tuners import RandomSearch"
      ],
      "execution_count": null,
      "outputs": []
    },
    {
      "cell_type": "code",
      "metadata": {
        "id": "FCjOOa5YSz0X"
      },
      "source": [
        "def build_model(hp):\n",
        "  model=tf.keras.Sequential()\n",
        "  for i in range(hp.Int('num_layers',2,50)):\n",
        "    model.add(tf.keras.layers.Dense(units=hp.Int('units_' + str(i),min_value=32,max_value=1000,step=32),activation='relu'))\n",
        "    model.add(tf.keras.layers.Flatten())\n",
        "    model.add(tf.keras.layers.Dense(2, activation='sigmoid'))\n",
        "    model.compile(optimizer=tf.keras.optimizers.Adam(hp.Choice('learning_rate', [1e-2, 1e-3, 1e-4])),loss='sparse_categorical_crossentropy',metrics=['accuracy'])\n",
        "    return model"
      ],
      "execution_count": null,
      "outputs": []
    },
    {
      "cell_type": "code",
      "metadata": {
        "colab": {
          "base_uri": "https://localhost:8080/"
        },
        "id": "Sm6SmCBnVF1o",
        "outputId": "ef25540a-b577-4e9d-a903-3f57a585adc6"
      },
      "source": [
        "tuner = RandomSearch(\n",
        "    build_model,\n",
        "    objective='val_accuracy',\n",
        "    max_trials=5,\n",
        "    executions_per_trial=5,\n",
        "    directory='project',\n",
        "    project_name='creditcard_fraud')"
      ],
      "execution_count": null,
      "outputs": [
        {
          "output_type": "stream",
          "name": "stdout",
          "text": [
            "INFO:tensorflow:Reloading Oracle from existing project project/creditcard_fraud/oracle.json\n"
          ]
        }
      ]
    },
    {
      "cell_type": "code",
      "metadata": {
        "colab": {
          "base_uri": "https://localhost:8080/"
        },
        "id": "vv0VX9Y_VX8U",
        "outputId": "cba38e59-3044-4a98-b20b-db53baadb3fa"
      },
      "source": [
        "tuner.search_space_summary()"
      ],
      "execution_count": null,
      "outputs": [
        {
          "output_type": "stream",
          "name": "stdout",
          "text": [
            "Search space summary\n",
            "Default search space size: 3\n",
            "num_layers (Int)\n",
            "{'default': None, 'conditions': [], 'min_value': 2, 'max_value': 50, 'step': 1, 'sampling': None}\n",
            "units_0 (Int)\n",
            "{'default': None, 'conditions': [], 'min_value': 32, 'max_value': 1000, 'step': 32, 'sampling': None}\n",
            "learning_rate (Choice)\n",
            "{'default': 0.01, 'conditions': [], 'values': [0.01, 0.001, 0.0001], 'ordered': True}\n"
          ]
        }
      ]
    },
    {
      "cell_type": "code",
      "metadata": {
        "colab": {
          "base_uri": "https://localhost:8080/"
        },
        "id": "ViJrlwJ9WTRU",
        "outputId": "1158c427-3a3a-4105-9f4f-92230b226e8e"
      },
      "source": [
        "X_train_scaled.shape"
      ],
      "execution_count": null,
      "outputs": [
        {
          "output_type": "execute_result",
          "data": {
            "text/plain": [
              "(348292, 30)"
            ]
          },
          "metadata": {},
          "execution_count": 24
        }
      ]
    },
    {
      "cell_type": "code",
      "metadata": {
        "colab": {
          "base_uri": "https://localhost:8080/"
        },
        "id": "5InTV6ATWV_S",
        "outputId": "e67593e6-e1e9-49b0-951e-7dd1477595fd"
      },
      "source": [
        "X_test_scaled.shape"
      ],
      "execution_count": null,
      "outputs": [
        {
          "output_type": "execute_result",
          "data": {
            "text/plain": [
              "(85443, 30)"
            ]
          },
          "metadata": {},
          "execution_count": 25
        }
      ]
    },
    {
      "cell_type": "code",
      "metadata": {
        "colab": {
          "base_uri": "https://localhost:8080/"
        },
        "id": "IzbEqAruWZ-h",
        "outputId": "2d38c59a-ea75-4ec1-e9cd-9fc6c370b679"
      },
      "source": [
        "y_train_os.shape"
      ],
      "execution_count": null,
      "outputs": [
        {
          "output_type": "execute_result",
          "data": {
            "text/plain": [
              "(348292,)"
            ]
          },
          "metadata": {},
          "execution_count": 26
        }
      ]
    },
    {
      "cell_type": "code",
      "metadata": {
        "colab": {
          "base_uri": "https://localhost:8080/"
        },
        "id": "upkiWAtmWcn0",
        "outputId": "aa41f178-94c2-49ae-ef7d-842587c32db0"
      },
      "source": [
        "y_test.shape"
      ],
      "execution_count": null,
      "outputs": [
        {
          "output_type": "execute_result",
          "data": {
            "text/plain": [
              "(85443,)"
            ]
          },
          "metadata": {},
          "execution_count": 27
        }
      ]
    },
    {
      "cell_type": "code",
      "metadata": {
        "id": "-GC65KJhXk8j"
      },
      "source": [
        "y_train=np.asarray(y_train_os).astype('int64').reshape((-1,1))\n",
        "y_test=np.asarray(y_test).astype('int64').reshape((-1,1))"
      ],
      "execution_count": null,
      "outputs": []
    },
    {
      "cell_type": "code",
      "metadata": {
        "colab": {
          "base_uri": "https://localhost:8080/"
        },
        "id": "HIPfgMllX3cL",
        "outputId": "1b6b72d9-0ebe-4031-c2c9-0aed36f7c13f"
      },
      "source": [
        "y_train.shape"
      ],
      "execution_count": null,
      "outputs": [
        {
          "output_type": "execute_result",
          "data": {
            "text/plain": [
              "(348292, 1)"
            ]
          },
          "metadata": {},
          "execution_count": 29
        }
      ]
    },
    {
      "cell_type": "code",
      "metadata": {
        "colab": {
          "base_uri": "https://localhost:8080/"
        },
        "id": "gcgQ2E7vX7_P",
        "outputId": "a485997c-fcb9-4258-8f1a-6287cece8de9"
      },
      "source": [
        "y_test.shape"
      ],
      "execution_count": null,
      "outputs": [
        {
          "output_type": "execute_result",
          "data": {
            "text/plain": [
              "(85443, 1)"
            ]
          },
          "metadata": {},
          "execution_count": 30
        }
      ]
    },
    {
      "cell_type": "code",
      "metadata": {
        "colab": {
          "base_uri": "https://localhost:8080/"
        },
        "id": "VJfZGShdjp6e",
        "outputId": "c23e8c55-d731-451a-faec-087276f1d64c"
      },
      "source": [
        "tuner.search(X_train_scaled,y_train,epochs=5,validation_data=(X_test_scaled,y_test))"
      ],
      "execution_count": null,
      "outputs": [
        {
          "output_type": "stream",
          "name": "stdout",
          "text": [
            "Trial 6 Complete [00h 20m 12s]\n",
            "val_accuracy: 0.9925049424171448\n",
            "\n",
            "Best val_accuracy So Far: 0.9925049424171448\n",
            "Total elapsed time: 01h 44m 01s\n",
            "INFO:tensorflow:Oracle triggered exit\n"
          ]
        }
      ]
    },
    {
      "cell_type": "code",
      "metadata": {
        "colab": {
          "base_uri": "https://localhost:8080/"
        },
        "id": "3hoTcITlgcJE",
        "outputId": "29f2d455-d680-41f1-ad3d-b68a06c85756"
      },
      "source": [
        "tuner.results_summary()"
      ],
      "execution_count": null,
      "outputs": [
        {
          "output_type": "stream",
          "name": "stdout",
          "text": [
            "Results summary\n",
            "Results in project/creditcard_fraud\n",
            "Showing 10 best trials\n",
            "Objective(name='val_accuracy', direction='max')\n",
            "Trial summary\n",
            "Hyperparameters:\n",
            "num_layers: 8\n",
            "units_0: 512\n",
            "learning_rate: 0.01\n",
            "Score: 0.9925049424171448\n",
            "Trial summary\n",
            "Hyperparameters:\n",
            "num_layers: 36\n",
            "units_0: 96\n",
            "learning_rate: 0.001\n",
            "Score: 0.9916295170783996\n",
            "Trial summary\n",
            "Hyperparameters:\n",
            "num_layers: 31\n",
            "units_0: 928\n",
            "learning_rate: 0.01\n",
            "Score: 0.9913041353225708\n",
            "Trial summary\n",
            "Hyperparameters:\n",
            "num_layers: 15\n",
            "units_0: 96\n",
            "learning_rate: 0.01\n",
            "Score: 0.9912315726280212\n",
            "Trial summary\n",
            "Hyperparameters:\n",
            "num_layers: 39\n",
            "units_0: 704\n",
            "learning_rate: 0.01\n",
            "Score: 0.9910841226577759\n"
          ]
        }
      ]
    },
    {
      "cell_type": "code",
      "metadata": {
        "id": "5cYMtyzg9KrD"
      },
      "source": [
        "best_model = tuner.get_best_models()[0]"
      ],
      "execution_count": null,
      "outputs": []
    },
    {
      "cell_type": "code",
      "metadata": {
        "colab": {
          "base_uri": "https://localhost:8080/"
        },
        "id": "h8FdOobk-VON",
        "outputId": "e5c9ebb1-e0a4-4761-c338-de4e81bd736c"
      },
      "source": [
        "y_train.shape"
      ],
      "execution_count": null,
      "outputs": [
        {
          "output_type": "execute_result",
          "data": {
            "text/plain": [
              "(348292, 1)"
            ]
          },
          "metadata": {},
          "execution_count": 38
        }
      ]
    },
    {
      "cell_type": "code",
      "metadata": {
        "colab": {
          "base_uri": "https://localhost:8080/"
        },
        "id": "Fv9btaHJ-GZN",
        "outputId": "488adabf-78c9-4b5a-df7b-ba5f90873c73"
      },
      "source": [
        "history=best_model.fit(X_train_scaled,y_train,epochs=20,validation_split=0.2)"
      ],
      "execution_count": null,
      "outputs": [
        {
          "output_type": "stream",
          "name": "stdout",
          "text": [
            "Epoch 1/20\n",
            "8708/8708 [==============================] - 34s 4ms/step - loss: 0.0922 - accuracy: 0.9683 - val_loss: 0.1606 - val_accuracy: 0.9372\n",
            "Epoch 2/20\n",
            "8708/8708 [==============================] - 35s 4ms/step - loss: 0.0896 - accuracy: 0.9693 - val_loss: 0.2516 - val_accuracy: 0.9015\n",
            "Epoch 3/20\n",
            "8708/8708 [==============================] - 34s 4ms/step - loss: 0.0879 - accuracy: 0.9696 - val_loss: 0.1693 - val_accuracy: 0.9343\n",
            "Epoch 4/20\n",
            "8708/8708 [==============================] - 34s 4ms/step - loss: 0.0861 - accuracy: 0.9699 - val_loss: 0.1448 - val_accuracy: 0.9460\n",
            "Epoch 5/20\n",
            "8708/8708 [==============================] - 34s 4ms/step - loss: 0.0838 - accuracy: 0.9708 - val_loss: 0.1103 - val_accuracy: 0.9516\n",
            "Epoch 6/20\n",
            "8708/8708 [==============================] - 34s 4ms/step - loss: 0.0823 - accuracy: 0.9711 - val_loss: 0.1976 - val_accuracy: 0.9191\n",
            "Epoch 7/20\n",
            "8708/8708 [==============================] - 34s 4ms/step - loss: 0.0807 - accuracy: 0.9713 - val_loss: 0.2598 - val_accuracy: 0.8896\n",
            "Epoch 8/20\n",
            "8708/8708 [==============================] - 34s 4ms/step - loss: 0.0787 - accuracy: 0.9718 - val_loss: 0.1867 - val_accuracy: 0.9225\n",
            "Epoch 9/20\n",
            "8708/8708 [==============================] - 34s 4ms/step - loss: 0.0776 - accuracy: 0.9718 - val_loss: 0.2254 - val_accuracy: 0.8979\n",
            "Epoch 10/20\n",
            "8708/8708 [==============================] - 34s 4ms/step - loss: 0.0769 - accuracy: 0.9717 - val_loss: 0.1826 - val_accuracy: 0.9225\n",
            "Epoch 11/20\n",
            "8708/8708 [==============================] - 34s 4ms/step - loss: 0.0764 - accuracy: 0.9721 - val_loss: 0.1239 - val_accuracy: 0.9368\n",
            "Epoch 12/20\n",
            "8708/8708 [==============================] - 34s 4ms/step - loss: 0.0748 - accuracy: 0.9724 - val_loss: 0.1273 - val_accuracy: 0.9306\n",
            "Epoch 13/20\n",
            "8708/8708 [==============================] - 34s 4ms/step - loss: 0.0735 - accuracy: 0.9726 - val_loss: 0.3482 - val_accuracy: 0.8782\n",
            "Epoch 14/20\n",
            "8708/8708 [==============================] - 34s 4ms/step - loss: 0.0721 - accuracy: 0.9732 - val_loss: 0.1092 - val_accuracy: 0.9487\n",
            "Epoch 15/20\n",
            "8708/8708 [==============================] - 34s 4ms/step - loss: 0.0718 - accuracy: 0.9728 - val_loss: 0.1073 - val_accuracy: 0.9425\n",
            "Epoch 16/20\n",
            "8708/8708 [==============================] - 35s 4ms/step - loss: 0.0711 - accuracy: 0.9730 - val_loss: 0.1929 - val_accuracy: 0.9224\n",
            "Epoch 17/20\n",
            "8708/8708 [==============================] - 34s 4ms/step - loss: 0.0705 - accuracy: 0.9731 - val_loss: 0.2289 - val_accuracy: 0.9098\n",
            "Epoch 18/20\n",
            "8708/8708 [==============================] - 34s 4ms/step - loss: 0.0699 - accuracy: 0.9729 - val_loss: 0.1183 - val_accuracy: 0.9368\n",
            "Epoch 19/20\n",
            "8708/8708 [==============================] - 34s 4ms/step - loss: 0.0686 - accuracy: 0.9737 - val_loss: 0.1098 - val_accuracy: 0.9487\n",
            "Epoch 20/20\n",
            "8708/8708 [==============================] - 34s 4ms/step - loss: 0.0682 - accuracy: 0.9733 - val_loss: 0.1079 - val_accuracy: 0.9399\n"
          ]
        }
      ]
    },
    {
      "cell_type": "code",
      "metadata": {
        "colab": {
          "base_uri": "https://localhost:8080/",
          "height": 300
        },
        "id": "Z2m4Rk4EBdix",
        "outputId": "1c414f13-26f8-41d1-a19e-e96d41a2dcf7"
      },
      "source": [
        "plt.plot(history.history['accuracy'], label='accuracy')\n",
        "plt.plot(history.history['val_accuracy'], label = 'val_accuracy')\n",
        "plt.xlabel('Epoch')\n",
        "plt.ylabel('Accuracy')\n",
        "plt.ylim([0.8, 1])\n",
        "plt.legend(loc='lower right')"
      ],
      "execution_count": null,
      "outputs": [
        {
          "output_type": "execute_result",
          "data": {
            "text/plain": [
              "<matplotlib.legend.Legend at 0x7f7800ce1150>"
            ]
          },
          "metadata": {},
          "execution_count": 41
        },
        {
          "output_type": "display_data",
          "data": {
            "image/png": "[encoded data removed]",
            "text/plain": [
              "<Figure size 432x288 with 1 Axes>"
            ]
          },
          "metadata": {
            "needs_background": "light"
          }
        }
      ]
    },
    {
      "cell_type": "code",
      "metadata": {
        "colab": {
          "base_uri": "https://localhost:8080/",
          "height": 300
        },
        "id": "Mi1fLC8tBeu_",
        "outputId": "8b3ab770-cb5d-4ccb-94bb-ce07b5adc93e"
      },
      "source": [
        "plt.plot(history.history['loss'], label='loss')\n",
        "plt.plot(history.history['val_loss'], label = 'val_loss')\n",
        "plt.xlabel('Epoch')\n",
        "plt.ylabel('Losses')\n",
        "plt.ylim([1.2, 0])\n",
        "plt.legend(loc='lower right')"
      ],
      "execution_count": null,
      "outputs": [
        {
          "output_type": "execute_result",
          "data": {
            "text/plain": [
              "<matplotlib.legend.Legend at 0x7f7800c34990>"
            ]
          },
          "metadata": {},
          "execution_count": 42
        },
        {
          "output_type": "display_data",
          "data": {
            "image/png": "[encoded data removed]",
            "text/plain": [
              "<Figure size 432x288 with 1 Axes>"
            ]
          },
          "metadata": {
            "needs_background": "light"
          }
        }
      ]
    },
    {
      "cell_type": "markdown",
      "metadata": {
        "id": "QzFwjebtKd4J"
      },
      "source": [
        "#Doing Same thing but using Machine Learning algorithm\n"
      ]
    },
    {
      "cell_type": "code",
      "metadata": {
        "colab": {
          "base_uri": "https://localhost:8080/"
        },
        "id": "iqr0BwFUHJ2e",
        "outputId": "aee0deee-c6b1-48da-a2fc-677397513076"
      },
      "source": [
        "loss,acc=best_model.evaluate(X_test_scaled,y_test,verbose=2)\n",
        "print(\"Accuracy:\",acc*100)\n",
        "print(\"Loss:\",loss*100)"
      ],
      "execution_count": null,
      "outputs": [
        {
          "output_type": "stream",
          "name": "stdout",
          "text": [
            "2671/2671 - 5s - loss: 0.0485 - accuracy: 0.9894 - 5s/epoch - 2ms/step\n",
            "Accuracy: 98.94315600395203\n",
            "Loss: 4.847674071788788\n"
          ]
        }
      ]
    },
    {
      "cell_type": "code",
      "metadata": {
        "id": "NQ0kgRQYIy3y"
      },
      "source": [
        "from sklearn.model_selection import train_test_split\n",
        "from sklearn.ensemble import RandomForestClassifier\n",
        "from imblearn.over_sampling import RandomOverSampler\n",
        "from sklearn.metrics import classification_report,confusion_matrix,accuracy_score"
      ],
      "execution_count": null,
      "outputs": []
    },
    {
      "cell_type": "code",
      "metadata": {
        "id": "WtKo-R0RJPXs"
      },
      "source": [
        "X=df.drop('Class',axis=1)#independent feature\n",
        "y=df['Class']#dependent feature"
      ],
      "execution_count": null,
      "outputs": []
    },
    {
      "cell_type": "code",
      "metadata": {
        "id": "MBEbzvTyJU_d"
      },
      "source": [
        "X_train1,X_test1,y_train1,y_test1=train_test_split(X,y,train_size=0.7)"
      ],
      "execution_count": null,
      "outputs": []
    },
    {
      "cell_type": "code",
      "metadata": {
        "colab": {
          "base_uri": "https://localhost:8080/"
        },
        "id": "lHL9zdUNJfsZ",
        "outputId": "e980ff8b-c01f-422d-8922-3a1a5e7ca6f3"
      },
      "source": [
        "os=RandomOverSampler(0.75)\n",
        "X_train_os1,y_train_os1=os.fit_resample(X_train1,y_train1)\n",
        "print(\"The number of classes before fit {}\".format(Counter(y_train1)))\n",
        "print(\"The number of classes after fit {}\".format(Counter(y_train_os1)))"
      ],
      "execution_count": null,
      "outputs": [
        {
          "output_type": "stream",
          "name": "stderr",
          "text": [
            "/usr/local/lib/python3.7/dist-packages/imblearn/utils/_validation.py:591: FutureWarning: Pass sampling_strategy=0.75 as keyword args. From version 0.9 passing these as positional arguments will result in an error\n",
            "  FutureWarning,\n"
          ]
        },
        {
          "output_type": "stream",
          "name": "stdout",
          "text": [
            "The number of classes before fit Counter({0: 199006, 1: 358})\n",
            "The number of classes after fit Counter({0: 199006, 1: 149254})\n"
          ]
        }
      ]
    },
    {
      "cell_type": "code",
      "metadata": {
        "colab": {
          "base_uri": "https://localhost:8080/"
        },
        "id": "r-gORlHlJp_v",
        "outputId": "27b459dc-07bc-4ded-b8c1-a861d31ec3ea"
      },
      "source": [
        "rf_clf1=RandomForestClassifier()\n",
        "rf_clf1.fit(X_train_os1,y_train_os1)"
      ],
      "execution_count": null,
      "outputs": [
        {
          "output_type": "execute_result",
          "data": {
            "text/plain": [
              "RandomForestClassifier()"
            ]
          },
          "metadata": {},
          "execution_count": 90
        }
      ]
    },
    {
      "cell_type": "code",
      "metadata": {
        "colab": {
          "base_uri": "https://localhost:8080/"
        },
        "id": "BKFLbGe-KL0L",
        "outputId": "d67b1ef7-e89a-454d-988c-9a8cf52f6c5f"
      },
      "source": [
        "y_pred1=rf_clf1.predict(X_test1)\n",
        "print(\"Accuracy Score:\",accuracy_score(y_test1,y_pred1))\n",
        "print(\"\\n\")\n",
        "print(\"Confusion Matrix:\\n\",confusion_matrix(y_test1,y_pred1))\n",
        "print(\"\\n\")\n",
        "print(\"Classification Report:\\n\",classification_report(y_test1,y_pred1))"
      ],
      "execution_count": null,
      "outputs": [
        {
          "output_type": "stream",
          "name": "stdout",
          "text": [
            "Accuracy Score: 0.9995903701883126\n",
            "\n",
            "\n",
            "Confusion Matrix:\n",
            " [[85304     5]\n",
            " [   30   104]]\n",
            "\n",
            "\n",
            "Classification Report:\n",
            "               precision    recall  f1-score   support\n",
            "\n",
            "           0       1.00      1.00      1.00     85309\n",
            "           1       0.95      0.78      0.86       134\n",
            "\n",
            "    accuracy                           1.00     85443\n",
            "   macro avg       0.98      0.89      0.93     85443\n",
            "weighted avg       1.00      1.00      1.00     85443\n",
            "\n"
          ]
        }
      ]
    },
    {
      "cell_type": "markdown",
      "metadata": {
        "id": "Ao3sbxNvKzhX"
      },
      "source": [
        "#Conculsion:#\n",
        "\n",
        "**The conclusion is Neural network with hyperparameter tuning as well as Randomforest both techniques gaved a good result.For both the method you have to perform oversampling to slove the problem of imbalanced dataset but in case of neural network you have touse scaling method to scale down the dataset values.**\n"
      ]
    }
  ]
}